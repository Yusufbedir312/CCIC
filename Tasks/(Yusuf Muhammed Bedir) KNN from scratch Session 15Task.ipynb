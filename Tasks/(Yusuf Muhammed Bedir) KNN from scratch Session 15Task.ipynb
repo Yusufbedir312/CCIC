{
 "cells": [
  {
   "cell_type": "code",
   "execution_count": 1,
   "id": "4d53028c",
   "metadata": {
    "execution": {
     "iopub.execute_input": "2024-09-05T04:26:10.202152Z",
     "iopub.status.busy": "2024-09-05T04:26:10.201715Z",
     "iopub.status.idle": "2024-09-05T04:26:12.206456Z",
     "shell.execute_reply": "2024-09-05T04:26:12.205301Z"
    },
    "papermill": {
     "duration": 2.019696,
     "end_time": "2024-09-05T04:26:12.209340",
     "exception": false,
     "start_time": "2024-09-05T04:26:10.189644",
     "status": "completed"
    },
    "tags": []
   },
   "outputs": [],
   "source": [
    "import numpy as np \n",
    "import pandas as pd\n",
    "import statistics\n",
    "from sklearn.model_selection import train_test_split\n",
    "from sklearn.metrics import accuracy_score"
   ]
  },
  {
   "cell_type": "code",
   "execution_count": 2,
   "id": "3e21fc2b",
   "metadata": {
    "execution": {
     "iopub.execute_input": "2024-09-05T04:26:12.254278Z",
     "iopub.status.busy": "2024-09-05T04:26:12.253647Z",
     "iopub.status.idle": "2024-09-05T04:26:12.267437Z",
     "shell.execute_reply": "2024-09-05T04:26:12.266304Z"
    },
    "papermill": {
     "duration": 0.02885,
     "end_time": "2024-09-05T04:26:12.270005",
     "exception": false,
     "start_time": "2024-09-05T04:26:12.241155",
     "status": "completed"
    },
    "tags": []
   },
   "outputs": [],
   "source": [
    "class KNN_Classifier():\n",
    "\n",
    "  # initiating the parameters\n",
    "  def __init__(self, distance_metric):\n",
    "\n",
    "    self.distance_metric = distance_metric\n",
    "\n",
    "  # getting the distance metric\n",
    "  def get_distance_metric(self,training_data_point, test_data_point):\n",
    "\n",
    "    if (self.distance_metric == 'euclidean'):\n",
    "\n",
    "      dist = 0\n",
    "      for i in range(len(training_data_point) - 1):\n",
    "        dist = dist + (training_data_point[i] - test_data_point[i])**2\n",
    "\n",
    "      euclidean_dist = np.sqrt(dist)\n",
    "    \n",
    "      return euclidean_dist\n",
    "\n",
    "    elif (self.distance_metric == 'manhattan'):\n",
    "\n",
    "      dist = 0\n",
    "\n",
    "      for i in range(len(training_data_point) - 1):\n",
    "        dist = dist + abs(training_data_point[i] - test_data_point[i])\n",
    "\n",
    "      manhattan_dist = dist\n",
    "\n",
    "      return manhattan_dist\n",
    "\n",
    "  # getting the nearest neighbors\n",
    "  def nearest_neighbors(self,X_train, test_data, k):\n",
    "\n",
    "    distance_list = []\n",
    "\n",
    "    for training_data in X_train:\n",
    "\n",
    "      distance = self.get_distance_metric(training_data, test_data)\n",
    "      distance_list.append((training_data, distance))\n",
    "\n",
    "    distance_list.sort(key=lambda x: x[1])\n",
    "\n",
    "    neighbors_list = []\n",
    "\n",
    "    for j in range(k):\n",
    "      neighbors_list.append(distance_list[j][0])\n",
    "\n",
    "    return neighbors_list\n",
    "\n",
    "\n",
    "  # predict the class of the new data point:\n",
    "  def predict(self,X_train, test_data, k):\n",
    "    neighbors = self.nearest_neighbors(X_train, test_data, k)\n",
    "    \n",
    "    for data in neighbors:\n",
    "      label = []\n",
    "      label.append(data[-1])\n",
    "\n",
    "    predicted_class = statistics.mode(label)\n",
    "\n",
    "    return predicted_class\n"
   ]
  },
  {
   "cell_type": "code",
   "execution_count": 3,
   "id": "a2c1fb5c",
   "metadata": {
    "execution": {
     "iopub.execute_input": "2024-09-05T04:26:12.293069Z",
     "iopub.status.busy": "2024-09-05T04:26:12.292597Z",
     "iopub.status.idle": "2024-09-05T04:26:12.318694Z",
     "shell.execute_reply": "2024-09-05T04:26:12.317360Z"
    },
    "papermill": {
     "duration": 0.040848,
     "end_time": "2024-09-05T04:26:12.321637",
     "exception": false,
     "start_time": "2024-09-05T04:26:12.280789",
     "status": "completed"
    },
    "tags": []
   },
   "outputs": [],
   "source": [
    "df = pd.read_csv('diabetes.csv')"
   ]
  },
  {
   "cell_type": "code",
   "execution_count": 4,
   "id": "dd4e2310",
   "metadata": {
    "execution": {
     "iopub.execute_input": "2024-09-05T04:26:12.344916Z",
     "iopub.status.busy": "2024-09-05T04:26:12.344505Z",
     "iopub.status.idle": "2024-09-05T04:26:12.371284Z",
     "shell.execute_reply": "2024-09-05T04:26:12.370190Z"
    },
    "papermill": {
     "duration": 0.04159,
     "end_time": "2024-09-05T04:26:12.374020",
     "exception": false,
     "start_time": "2024-09-05T04:26:12.332430",
     "status": "completed"
    },
    "tags": []
   },
   "outputs": [
    {
     "data": {
      "text/html": [
       "<div>\n",
       "<style scoped>\n",
       "    .dataframe tbody tr th:only-of-type {\n",
       "        vertical-align: middle;\n",
       "    }\n",
       "\n",
       "    .dataframe tbody tr th {\n",
       "        vertical-align: top;\n",
       "    }\n",
       "\n",
       "    .dataframe thead th {\n",
       "        text-align: right;\n",
       "    }\n",
       "</style>\n",
       "<table border=\"1\" class=\"dataframe\">\n",
       "  <thead>\n",
       "    <tr style=\"text-align: right;\">\n",
       "      <th></th>\n",
       "      <th>Pregnancies</th>\n",
       "      <th>Glucose</th>\n",
       "      <th>BloodPressure</th>\n",
       "      <th>SkinThickness</th>\n",
       "      <th>Insulin</th>\n",
       "      <th>BMI</th>\n",
       "      <th>DiabetesPedigreeFunction</th>\n",
       "      <th>Age</th>\n",
       "      <th>Outcome</th>\n",
       "    </tr>\n",
       "  </thead>\n",
       "  <tbody>\n",
       "    <tr>\n",
       "      <th>0</th>\n",
       "      <td>6</td>\n",
       "      <td>148</td>\n",
       "      <td>72</td>\n",
       "      <td>35</td>\n",
       "      <td>0</td>\n",
       "      <td>33.6</td>\n",
       "      <td>0.627</td>\n",
       "      <td>50</td>\n",
       "      <td>1</td>\n",
       "    </tr>\n",
       "    <tr>\n",
       "      <th>1</th>\n",
       "      <td>1</td>\n",
       "      <td>85</td>\n",
       "      <td>66</td>\n",
       "      <td>29</td>\n",
       "      <td>0</td>\n",
       "      <td>26.6</td>\n",
       "      <td>0.351</td>\n",
       "      <td>31</td>\n",
       "      <td>0</td>\n",
       "    </tr>\n",
       "    <tr>\n",
       "      <th>2</th>\n",
       "      <td>8</td>\n",
       "      <td>183</td>\n",
       "      <td>64</td>\n",
       "      <td>0</td>\n",
       "      <td>0</td>\n",
       "      <td>23.3</td>\n",
       "      <td>0.672</td>\n",
       "      <td>32</td>\n",
       "      <td>1</td>\n",
       "    </tr>\n",
       "    <tr>\n",
       "      <th>3</th>\n",
       "      <td>1</td>\n",
       "      <td>89</td>\n",
       "      <td>66</td>\n",
       "      <td>23</td>\n",
       "      <td>94</td>\n",
       "      <td>28.1</td>\n",
       "      <td>0.167</td>\n",
       "      <td>21</td>\n",
       "      <td>0</td>\n",
       "    </tr>\n",
       "    <tr>\n",
       "      <th>4</th>\n",
       "      <td>0</td>\n",
       "      <td>137</td>\n",
       "      <td>40</td>\n",
       "      <td>35</td>\n",
       "      <td>168</td>\n",
       "      <td>43.1</td>\n",
       "      <td>2.288</td>\n",
       "      <td>33</td>\n",
       "      <td>1</td>\n",
       "    </tr>\n",
       "  </tbody>\n",
       "</table>\n",
       "</div>"
      ],
      "text/plain": [
       "   Pregnancies  Glucose  BloodPressure  SkinThickness  Insulin   BMI  \\\n",
       "0            6      148             72             35        0  33.6   \n",
       "1            1       85             66             29        0  26.6   \n",
       "2            8      183             64              0        0  23.3   \n",
       "3            1       89             66             23       94  28.1   \n",
       "4            0      137             40             35      168  43.1   \n",
       "\n",
       "   DiabetesPedigreeFunction  Age  Outcome  \n",
       "0                     0.627   50        1  \n",
       "1                     0.351   31        0  \n",
       "2                     0.672   32        1  \n",
       "3                     0.167   21        0  \n",
       "4                     2.288   33        1  "
      ]
     },
     "execution_count": 4,
     "metadata": {},
     "output_type": "execute_result"
    }
   ],
   "source": [
    "df.head()"
   ]
  },
  {
   "cell_type": "code",
   "execution_count": 5,
   "id": "27e42252",
   "metadata": {
    "execution": {
     "iopub.execute_input": "2024-09-05T04:26:12.398228Z",
     "iopub.status.busy": "2024-09-05T04:26:12.397766Z",
     "iopub.status.idle": "2024-09-05T04:26:12.405360Z",
     "shell.execute_reply": "2024-09-05T04:26:12.404184Z"
    },
    "papermill": {
     "duration": 0.022362,
     "end_time": "2024-09-05T04:26:12.407702",
     "exception": false,
     "start_time": "2024-09-05T04:26:12.385340",
     "status": "completed"
    },
    "tags": []
   },
   "outputs": [
    {
     "data": {
      "text/plain": [
       "(768, 9)"
      ]
     },
     "execution_count": 5,
     "metadata": {},
     "output_type": "execute_result"
    }
   ],
   "source": [
    "df.shape"
   ]
  },
  {
   "cell_type": "code",
   "execution_count": 6,
   "id": "d08d2309",
   "metadata": {
    "execution": {
     "iopub.execute_input": "2024-09-05T04:26:12.431741Z",
     "iopub.status.busy": "2024-09-05T04:26:12.431263Z",
     "iopub.status.idle": "2024-09-05T04:26:12.442175Z",
     "shell.execute_reply": "2024-09-05T04:26:12.441053Z"
    },
    "papermill": {
     "duration": 0.025737,
     "end_time": "2024-09-05T04:26:12.444552",
     "exception": false,
     "start_time": "2024-09-05T04:26:12.418815",
     "status": "completed"
    },
    "tags": []
   },
   "outputs": [],
   "source": [
    "# separating features and target \n",
    "X = df.drop(columns='Outcome' , axis = 1)\n",
    "Y = df['Outcome']"
   ]
  },
  {
   "cell_type": "code",
   "execution_count": 7,
   "id": "41dcfc9c",
   "metadata": {
    "execution": {
     "iopub.execute_input": "2024-09-05T04:26:12.468890Z",
     "iopub.status.busy": "2024-09-05T04:26:12.468426Z",
     "iopub.status.idle": "2024-09-05T04:26:12.474020Z",
     "shell.execute_reply": "2024-09-05T04:26:12.472936Z"
    },
    "papermill": {
     "duration": 0.020739,
     "end_time": "2024-09-05T04:26:12.476316",
     "exception": false,
     "start_time": "2024-09-05T04:26:12.455577",
     "status": "completed"
    },
    "tags": []
   },
   "outputs": [],
   "source": [
    "#converting the data to a numpy array \n",
    "X = X.to_numpy()\n",
    "Y = Y.to_numpy()"
   ]
  },
  {
   "cell_type": "code",
   "execution_count": 8,
   "id": "7d695deb",
   "metadata": {
    "execution": {
     "iopub.execute_input": "2024-09-05T04:26:12.500262Z",
     "iopub.status.busy": "2024-09-05T04:26:12.499692Z",
     "iopub.status.idle": "2024-09-05T04:26:12.508199Z",
     "shell.execute_reply": "2024-09-05T04:26:12.506961Z"
    },
    "papermill": {
     "duration": 0.023446,
     "end_time": "2024-09-05T04:26:12.510764",
     "exception": false,
     "start_time": "2024-09-05T04:26:12.487318",
     "status": "completed"
    },
    "tags": []
   },
   "outputs": [
    {
     "name": "stdout",
     "output_type": "stream",
     "text": [
      "[[  6.    148.     72.    ...  33.6     0.627  50.   ]\n",
      " [  1.     85.     66.    ...  26.6     0.351  31.   ]\n",
      " [  8.    183.     64.    ...  23.3     0.672  32.   ]\n",
      " ...\n",
      " [  5.    121.     72.    ...  26.2     0.245  30.   ]\n",
      " [  1.    126.     60.    ...  30.1     0.349  47.   ]\n",
      " [  1.     93.     70.    ...  30.4     0.315  23.   ]]\n"
     ]
    }
   ],
   "source": [
    "print(X)"
   ]
  },
  {
   "cell_type": "code",
   "execution_count": 9,
   "id": "f46bbfb5",
   "metadata": {
    "execution": {
     "iopub.execute_input": "2024-09-05T04:26:12.535140Z",
     "iopub.status.busy": "2024-09-05T04:26:12.534700Z",
     "iopub.status.idle": "2024-09-05T04:26:12.543263Z",
     "shell.execute_reply": "2024-09-05T04:26:12.542149Z"
    },
    "papermill": {
     "duration": 0.024518,
     "end_time": "2024-09-05T04:26:12.546599",
     "exception": false,
     "start_time": "2024-09-05T04:26:12.522081",
     "status": "completed"
    },
    "tags": []
   },
   "outputs": [
    {
     "name": "stdout",
     "output_type": "stream",
     "text": [
      "[1 0 1 0 1 0 1 0 1 1 0 1 0 1 1 1 1 1 0 1 0 0 1 1 1 1 1 0 0 0 0 1 0 0 0 0 0\n",
      " 1 1 1 0 0 0 1 0 1 0 0 1 0 0 0 0 1 0 0 1 0 0 0 0 1 0 0 1 0 1 0 0 0 1 0 1 0\n",
      " 0 0 0 0 1 0 0 0 0 0 1 0 0 0 1 0 0 0 0 1 0 0 0 0 0 1 1 0 0 0 0 0 0 0 0 1 1\n",
      " 1 0 0 1 1 1 0 0 0 1 0 0 0 1 1 0 0 1 1 1 1 1 0 0 0 0 0 0 0 0 0 0 1 0 0 0 0\n",
      " 0 0 0 0 1 0 1 1 0 0 0 1 0 0 0 0 1 1 0 0 0 0 1 1 0 0 0 1 0 1 0 1 0 0 0 0 0\n",
      " 1 1 1 1 1 0 0 1 1 0 1 0 1 1 1 0 0 0 0 0 0 1 1 0 1 0 0 0 1 1 1 1 0 1 1 1 1\n",
      " 0 0 0 0 0 1 0 0 1 1 0 0 0 1 1 1 1 0 0 0 1 1 0 1 0 0 0 0 0 0 0 0 1 1 0 0 0\n",
      " 1 0 1 0 0 1 0 1 0 0 1 1 0 0 0 0 0 1 0 0 0 1 0 0 1 1 0 0 1 0 0 0 1 1 1 0 0\n",
      " 1 0 1 0 1 1 0 1 0 0 1 0 1 1 0 0 1 0 1 0 0 1 0 1 0 1 1 1 0 0 1 0 1 0 0 0 1\n",
      " 0 0 0 0 1 1 1 0 0 0 0 0 0 0 0 0 1 0 0 0 0 0 1 1 1 0 1 1 0 0 1 0 0 1 0 0 1\n",
      " 1 0 0 0 0 1 0 0 1 0 0 0 0 0 0 0 1 1 1 0 0 1 0 0 1 0 0 1 0 1 1 0 1 0 1 0 1\n",
      " 0 1 1 0 0 0 0 1 1 0 1 0 1 0 0 0 0 1 1 0 1 0 1 0 0 0 0 0 1 0 0 0 0 1 0 0 1\n",
      " 1 1 0 0 1 0 0 1 0 0 0 1 0 0 1 0 0 0 0 0 0 0 0 0 1 0 0 0 0 0 0 0 1 0 0 0 1\n",
      " 0 0 0 1 1 0 0 0 0 0 0 0 1 0 0 0 0 1 0 0 0 1 0 0 0 1 0 0 0 1 0 0 0 0 1 1 0\n",
      " 0 0 0 0 0 1 0 0 0 0 0 0 0 0 0 0 0 1 0 0 0 1 1 1 1 0 0 1 1 0 0 0 0 0 0 0 0\n",
      " 0 0 0 0 0 1 1 0 0 0 0 0 0 0 1 0 0 0 0 0 0 0 1 0 1 1 0 0 0 1 0 1 0 1 0 1 0\n",
      " 1 0 0 1 0 0 1 0 0 0 0 1 1 0 1 0 0 0 0 1 1 0 1 0 0 0 1 1 0 0 0 0 0 0 0 0 0\n",
      " 0 1 0 0 0 0 1 0 0 1 0 0 0 1 0 0 0 1 1 1 0 0 0 0 0 0 1 0 0 0 1 0 1 1 1 1 0\n",
      " 1 1 0 0 0 0 0 0 0 1 1 0 1 0 0 1 0 1 0 0 0 0 0 1 0 1 0 1 0 1 1 0 0 0 0 1 1\n",
      " 0 0 0 1 0 1 1 0 0 1 0 0 1 1 0 0 1 0 0 1 0 0 0 0 0 0 0 1 1 1 0 0 0 0 0 0 1\n",
      " 1 0 0 1 0 0 1 0 1 1 1 0 0 1 1 1 0 1 0 1 0 1 0 0 0 0 1 0]\n"
     ]
    }
   ],
   "source": [
    "print(Y)"
   ]
  },
  {
   "cell_type": "code",
   "execution_count": 10,
   "id": "7d8c6fd6",
   "metadata": {
    "execution": {
     "iopub.execute_input": "2024-09-05T04:26:12.571838Z",
     "iopub.status.busy": "2024-09-05T04:26:12.570790Z",
     "iopub.status.idle": "2024-09-05T04:26:12.581995Z",
     "shell.execute_reply": "2024-09-05T04:26:12.580928Z"
    },
    "papermill": {
     "duration": 0.026618,
     "end_time": "2024-09-05T04:26:12.584495",
     "exception": false,
     "start_time": "2024-09-05T04:26:12.557877",
     "status": "completed"
    },
    "tags": []
   },
   "outputs": [],
   "source": [
    "X_train ,X_test , Y_train , Y_test = train_test_split(X,Y , test_size = 0.2 , stratify=Y , random_state=2)"
   ]
  },
  {
   "cell_type": "code",
   "execution_count": 11,
   "id": "540ca2c6",
   "metadata": {
    "execution": {
     "iopub.execute_input": "2024-09-05T04:26:12.642148Z",
     "iopub.status.busy": "2024-09-05T04:26:12.641705Z",
     "iopub.status.idle": "2024-09-05T04:26:12.648463Z",
     "shell.execute_reply": "2024-09-05T04:26:12.647305Z"
    },
    "papermill": {
     "duration": 0.022543,
     "end_time": "2024-09-05T04:26:12.651489",
     "exception": false,
     "start_time": "2024-09-05T04:26:12.628946",
     "status": "completed"
    },
    "tags": []
   },
   "outputs": [
    {
     "name": "stdout",
     "output_type": "stream",
     "text": [
      "[[0.00e+00 1.19e+02 0.00e+00 ... 3.24e+01 1.41e-01 2.40e+01]\n",
      " [6.00e+00 1.05e+02 7.00e+01 ... 3.08e+01 1.22e-01 3.70e+01]\n",
      " [1.00e+00 1.89e+02 6.00e+01 ... 3.01e+01 3.98e-01 5.90e+01]\n",
      " ...\n",
      " [1.10e+01 8.50e+01 7.40e+01 ... 3.01e+01 3.00e-01 3.50e+01]\n",
      " [4.00e+00 1.12e+02 7.80e+01 ... 3.94e+01 2.36e-01 3.80e+01]\n",
      " [0.00e+00 8.60e+01 6.80e+01 ... 3.58e+01 2.38e-01 2.50e+01]]\n"
     ]
    }
   ],
   "source": [
    "print(X_train)"
   ]
  },
  {
   "cell_type": "code",
   "execution_count": 12,
   "id": "cb65b329",
   "metadata": {
    "execution": {
     "iopub.execute_input": "2024-09-05T04:26:12.676901Z",
     "iopub.status.busy": "2024-09-05T04:26:12.676451Z",
     "iopub.status.idle": "2024-09-05T04:26:12.682140Z",
     "shell.execute_reply": "2024-09-05T04:26:12.681050Z"
    },
    "papermill": {
     "duration": 0.021617,
     "end_time": "2024-09-05T04:26:12.684831",
     "exception": false,
     "start_time": "2024-09-05T04:26:12.663214",
     "status": "completed"
    },
    "tags": []
   },
   "outputs": [],
   "source": [
    "X_train = np.insert(X_train , 8 , Y_train , axis = 1)"
   ]
  },
  {
   "cell_type": "code",
   "execution_count": 13,
   "id": "77f0c3f8",
   "metadata": {
    "execution": {
     "iopub.execute_input": "2024-09-05T04:26:12.709609Z",
     "iopub.status.busy": "2024-09-05T04:26:12.709176Z",
     "iopub.status.idle": "2024-09-05T04:26:12.716275Z",
     "shell.execute_reply": "2024-09-05T04:26:12.714902Z"
    },
    "papermill": {
     "duration": 0.022304,
     "end_time": "2024-09-05T04:26:12.718739",
     "exception": false,
     "start_time": "2024-09-05T04:26:12.696435",
     "status": "completed"
    },
    "tags": []
   },
   "outputs": [
    {
     "name": "stdout",
     "output_type": "stream",
     "text": [
      "[[0.00e+00 1.19e+02 0.00e+00 ... 1.41e-01 2.40e+01 1.00e+00]\n",
      " [6.00e+00 1.05e+02 7.00e+01 ... 1.22e-01 3.70e+01 0.00e+00]\n",
      " [1.00e+00 1.89e+02 6.00e+01 ... 3.98e-01 5.90e+01 1.00e+00]\n",
      " ...\n",
      " [1.10e+01 8.50e+01 7.40e+01 ... 3.00e-01 3.50e+01 0.00e+00]\n",
      " [4.00e+00 1.12e+02 7.80e+01 ... 2.36e-01 3.80e+01 0.00e+00]\n",
      " [0.00e+00 8.60e+01 6.80e+01 ... 2.38e-01 2.50e+01 0.00e+00]]\n"
     ]
    }
   ],
   "source": [
    "print(X_train)"
   ]
  },
  {
   "cell_type": "code",
   "execution_count": 14,
   "id": "c1391071",
   "metadata": {
    "execution": {
     "iopub.execute_input": "2024-09-05T04:26:12.743695Z",
     "iopub.status.busy": "2024-09-05T04:26:12.743283Z",
     "iopub.status.idle": "2024-09-05T04:26:12.750728Z",
     "shell.execute_reply": "2024-09-05T04:26:12.749654Z"
    },
    "papermill": {
     "duration": 0.022869,
     "end_time": "2024-09-05T04:26:12.753268",
     "exception": false,
     "start_time": "2024-09-05T04:26:12.730399",
     "status": "completed"
    },
    "tags": []
   },
   "outputs": [
    {
     "data": {
      "text/plain": [
       "(614, 9)"
      ]
     },
     "execution_count": 14,
     "metadata": {},
     "output_type": "execute_result"
    }
   ],
   "source": [
    "X_train.shape"
   ]
  },
  {
   "cell_type": "code",
   "execution_count": 15,
   "id": "a65208b6",
   "metadata": {
    "execution": {
     "iopub.execute_input": "2024-09-05T04:26:12.778976Z",
     "iopub.status.busy": "2024-09-05T04:26:12.778231Z",
     "iopub.status.idle": "2024-09-05T04:26:12.790808Z",
     "shell.execute_reply": "2024-09-05T04:26:12.789495Z"
    },
    "papermill": {
     "duration": 0.028426,
     "end_time": "2024-09-05T04:26:12.793431",
     "exception": false,
     "start_time": "2024-09-05T04:26:12.765005",
     "status": "completed"
    },
    "tags": []
   },
   "outputs": [
    {
     "name": "stdout",
     "output_type": "stream",
     "text": [
      "[1. 0. 1. 1. 1. 1. 0. 1. 0. 0. 1. 1. 0. 0. 0. 0. 0. 0. 0. 1. 0. 0. 0. 0.\n",
      " 0. 0. 1. 1. 0. 1. 0. 0. 0. 0. 1. 1. 0. 0. 0. 0. 0. 1. 0. 0. 0. 0. 0. 0.\n",
      " 1. 0. 1. 0. 0. 0. 0. 0. 1. 0. 1. 0. 0. 0. 0. 0. 0. 0. 0. 1. 1. 1. 0. 0.\n",
      " 0. 1. 1. 0. 1. 0. 1. 0. 0. 1. 1. 0. 0. 0. 0. 1. 1. 0. 0. 0. 1. 0. 0. 1.\n",
      " 0. 0. 1. 1. 0. 1. 0. 0. 1. 0. 0. 0. 0. 0. 0. 0. 1. 0. 0. 0. 0. 0. 1. 1.\n",
      " 0. 0. 1. 0. 0. 1. 0. 1. 0. 1. 1. 1. 1. 0. 0. 0. 0. 1. 0. 0. 0. 1. 0. 0.\n",
      " 0. 1. 1. 0. 1. 1. 0. 1. 1. 1. 1. 0. 0. 0. 1. 0. 0. 1. 0. 1. 0. 0. 1. 0.\n",
      " 0. 0. 0. 1. 0. 1. 1. 0. 1. 1. 0. 0. 0. 1. 0. 0. 0. 0. 1. 0. 1. 0. 1. 0.\n",
      " 0. 1. 0. 1. 0. 0. 1. 0. 1. 0. 0. 1. 1. 0. 1. 0. 0. 0. 0. 0. 0. 0. 1. 0.\n",
      " 1. 0. 0. 0. 1. 0. 0. 1. 1. 0. 0. 1. 0. 0. 1. 0. 0. 0. 1. 1. 1. 0. 0. 0.\n",
      " 0. 0. 0. 1. 0. 0. 0. 0. 0. 0. 1. 1. 0. 1. 0. 1. 1. 1. 1. 0. 0. 1. 0. 0.\n",
      " 1. 1. 0. 0. 0. 0. 1. 0. 0. 0. 1. 1. 1. 1. 1. 0. 1. 1. 0. 0. 0. 0. 0. 0.\n",
      " 0. 0. 0. 0. 0. 0. 1. 1. 0. 0. 0. 0. 1. 1. 0. 0. 0. 0. 0. 0. 0. 0. 0. 0.\n",
      " 1. 0. 1. 0. 0. 0. 1. 1. 1. 0. 0. 0. 0. 1. 0. 0. 0. 0. 0. 0. 0. 0. 1. 0.\n",
      " 0. 0. 0. 0. 0. 1. 1. 0. 0. 0. 0. 1. 1. 0. 1. 0. 0. 0. 1. 0. 0. 0. 0. 1.\n",
      " 0. 1. 0. 1. 1. 0. 0. 0. 0. 0. 0. 1. 1. 1. 1. 0. 1. 1. 1. 0. 1. 0. 0. 0.\n",
      " 1. 0. 1. 0. 0. 0. 1. 0. 0. 1. 1. 0. 0. 0. 0. 0. 1. 0. 0. 0. 0. 1. 0. 1.\n",
      " 0. 0. 0. 0. 0. 0. 1. 0. 0. 0. 0. 1. 0. 0. 0. 0. 0. 1. 0. 0. 0. 1. 0. 0.\n",
      " 0. 0. 1. 0. 1. 0. 0. 1. 0. 0. 0. 0. 1. 1. 1. 0. 0. 0. 1. 0. 0. 0. 1. 1.\n",
      " 0. 0. 1. 1. 0. 0. 0. 1. 0. 1. 1. 0. 1. 0. 0. 1. 1. 0. 0. 0. 0. 0. 1. 0.\n",
      " 1. 0. 0. 0. 0. 0. 0. 1. 0. 0. 0. 1. 0. 0. 0. 0. 1. 0. 0. 1. 0. 0. 1. 1.\n",
      " 0. 1. 0. 0. 1. 1. 0. 1. 0. 0. 1. 1. 0. 0. 0. 1. 0. 1. 0. 1. 1. 0. 0. 0.\n",
      " 0. 0. 0. 1. 0. 0. 1. 0. 1. 1. 1. 1. 1. 1. 0. 1. 1. 0. 1. 0. 1. 1. 0. 1.\n",
      " 0. 1. 0. 0. 0. 0. 0. 0. 0. 1. 0. 0. 0. 0. 0. 1. 1. 0. 1. 1. 0. 0. 1. 0.\n",
      " 1. 1. 1. 0. 0. 0. 0. 0. 0. 0. 0. 1. 0. 1. 0. 0. 0. 0. 0. 0. 1. 0. 0. 0.\n",
      " 1. 1. 0. 1. 0. 0. 1. 0. 0. 1. 1. 0. 0. 0.]\n"
     ]
    }
   ],
   "source": [
    "print(X_train[:,8])"
   ]
  },
  {
   "cell_type": "code",
   "execution_count": 16,
   "id": "3b4ca5da",
   "metadata": {
    "execution": {
     "iopub.execute_input": "2024-09-05T04:26:12.868157Z",
     "iopub.status.busy": "2024-09-05T04:26:12.867668Z",
     "iopub.status.idle": "2024-09-05T04:26:12.873219Z",
     "shell.execute_reply": "2024-09-05T04:26:12.872088Z"
    },
    "papermill": {
     "duration": 0.021444,
     "end_time": "2024-09-05T04:26:12.875622",
     "exception": false,
     "start_time": "2024-09-05T04:26:12.854178",
     "status": "completed"
    },
    "tags": []
   },
   "outputs": [],
   "source": [
    "classifier = KNN_Classifier(distance_metric = 'manhattan')"
   ]
  },
  {
   "cell_type": "code",
   "execution_count": 17,
   "id": "e7eaf3e2",
   "metadata": {
    "execution": {
     "iopub.execute_input": "2024-09-05T04:26:12.924561Z",
     "iopub.status.busy": "2024-09-05T04:26:12.923805Z",
     "iopub.status.idle": "2024-09-05T04:26:12.935284Z",
     "shell.execute_reply": "2024-09-05T04:26:12.934071Z"
    },
    "papermill": {
     "duration": 0.027429,
     "end_time": "2024-09-05T04:26:12.938108",
     "exception": false,
     "start_time": "2024-09-05T04:26:12.910679",
     "status": "completed"
    },
    "tags": []
   },
   "outputs": [],
   "source": [
    "prediction = classifier.predict(X_train , X_test[2] , k=5)"
   ]
  },
  {
   "cell_type": "code",
   "execution_count": 18,
   "id": "7f271b41",
   "metadata": {
    "execution": {
     "iopub.execute_input": "2024-09-05T04:26:12.964209Z",
     "iopub.status.busy": "2024-09-05T04:26:12.963345Z",
     "iopub.status.idle": "2024-09-05T04:26:12.969566Z",
     "shell.execute_reply": "2024-09-05T04:26:12.968478Z"
    },
    "papermill": {
     "duration": 0.022398,
     "end_time": "2024-09-05T04:26:12.972596",
     "exception": false,
     "start_time": "2024-09-05T04:26:12.950198",
     "status": "completed"
    },
    "tags": []
   },
   "outputs": [
    {
     "name": "stdout",
     "output_type": "stream",
     "text": [
      "[  5.    147.     78.      0.      0.     33.7     0.218  65.   ]\n"
     ]
    }
   ],
   "source": [
    "print(X_test[2])"
   ]
  },
  {
   "cell_type": "code",
   "execution_count": 19,
   "id": "c90944c8",
   "metadata": {
    "execution": {
     "iopub.execute_input": "2024-09-05T04:26:12.998035Z",
     "iopub.status.busy": "2024-09-05T04:26:12.997579Z",
     "iopub.status.idle": "2024-09-05T04:26:13.003482Z",
     "shell.execute_reply": "2024-09-05T04:26:13.002382Z"
    },
    "papermill": {
     "duration": 0.021761,
     "end_time": "2024-09-05T04:26:13.006156",
     "exception": false,
     "start_time": "2024-09-05T04:26:12.984395",
     "status": "completed"
    },
    "tags": []
   },
   "outputs": [
    {
     "name": "stdout",
     "output_type": "stream",
     "text": [
      "0\n"
     ]
    }
   ],
   "source": [
    "print(Y_test[2])"
   ]
  },
  {
   "cell_type": "code",
   "execution_count": 20,
   "id": "0bf09774",
   "metadata": {
    "execution": {
     "iopub.execute_input": "2024-09-05T04:26:13.032999Z",
     "iopub.status.busy": "2024-09-05T04:26:13.031802Z",
     "iopub.status.idle": "2024-09-05T04:26:13.038374Z",
     "shell.execute_reply": "2024-09-05T04:26:13.037055Z"
    },
    "papermill": {
     "duration": 0.02265,
     "end_time": "2024-09-05T04:26:13.040966",
     "exception": false,
     "start_time": "2024-09-05T04:26:13.018316",
     "status": "completed"
    },
    "tags": []
   },
   "outputs": [
    {
     "name": "stdout",
     "output_type": "stream",
     "text": [
      "0.0\n"
     ]
    }
   ],
   "source": [
    "print(prediction)"
   ]
  },
  {
   "cell_type": "code",
   "execution_count": 21,
   "id": "3867eff9",
   "metadata": {
    "execution": {
     "iopub.execute_input": "2024-09-05T04:26:13.067311Z",
     "iopub.status.busy": "2024-09-05T04:26:13.066867Z",
     "iopub.status.idle": "2024-09-05T04:26:13.074187Z",
     "shell.execute_reply": "2024-09-05T04:26:13.073026Z"
    },
    "papermill": {
     "duration": 0.023814,
     "end_time": "2024-09-05T04:26:13.077013",
     "exception": false,
     "start_time": "2024-09-05T04:26:13.053199",
     "status": "completed"
    },
    "tags": []
   },
   "outputs": [
    {
     "data": {
      "text/plain": [
       "(154, 8)"
      ]
     },
     "execution_count": 21,
     "metadata": {},
     "output_type": "execute_result"
    }
   ],
   "source": [
    "X_test.shape"
   ]
  },
  {
   "cell_type": "code",
   "execution_count": 22,
   "id": "3832896b",
   "metadata": {
    "execution": {
     "iopub.execute_input": "2024-09-05T04:26:13.103930Z",
     "iopub.status.busy": "2024-09-05T04:26:13.102915Z",
     "iopub.status.idle": "2024-09-05T04:26:13.109082Z",
     "shell.execute_reply": "2024-09-05T04:26:13.107903Z"
    },
    "papermill": {
     "duration": 0.023001,
     "end_time": "2024-09-05T04:26:13.112241",
     "exception": false,
     "start_time": "2024-09-05T04:26:13.089240",
     "status": "completed"
    },
    "tags": []
   },
   "outputs": [
    {
     "name": "stdout",
     "output_type": "stream",
     "text": [
      "154\n"
     ]
    }
   ],
   "source": [
    "X_test_size = X_test.shape[0]\n",
    "print(X_test_size)"
   ]
  },
  {
   "cell_type": "code",
   "execution_count": 23,
   "id": "837137d8",
   "metadata": {
    "execution": {
     "iopub.execute_input": "2024-09-05T04:26:13.138715Z",
     "iopub.status.busy": "2024-09-05T04:26:13.138309Z",
     "iopub.status.idle": "2024-09-05T04:26:13.980406Z",
     "shell.execute_reply": "2024-09-05T04:26:13.979354Z"
    },
    "papermill": {
     "duration": 0.858788,
     "end_time": "2024-09-05T04:26:13.983399",
     "exception": false,
     "start_time": "2024-09-05T04:26:13.124611",
     "status": "completed"
    },
    "tags": []
   },
   "outputs": [],
   "source": [
    "Y_pred = []\n",
    "\n",
    "for i in range(X_test_size):\n",
    "    prediction = classifier.predict(X_train , X_test[i] , k=5)\n",
    "    Y_pred.append(prediction)"
   ]
  },
  {
   "cell_type": "code",
   "execution_count": 24,
   "id": "8e506603",
   "metadata": {
    "execution": {
     "iopub.execute_input": "2024-09-05T04:26:14.105705Z",
     "iopub.status.busy": "2024-09-05T04:26:14.105224Z",
     "iopub.status.idle": "2024-09-05T04:26:14.113164Z",
     "shell.execute_reply": "2024-09-05T04:26:14.112070Z"
    },
    "papermill": {
     "duration": 0.024484,
     "end_time": "2024-09-05T04:26:14.115696",
     "exception": false,
     "start_time": "2024-09-05T04:26:14.091212",
     "status": "completed"
    },
    "tags": []
   },
   "outputs": [
    {
     "name": "stdout",
     "output_type": "stream",
     "text": [
      "74.02597402597402\n"
     ]
    }
   ],
   "source": [
    "accuracy = accuracy_score(Y_test , Y_pred)\n",
    "\n",
    "print(accuracy*100)"
   ]
  }
 ],
 "metadata": {
  "kaggle": {
   "accelerator": "none",
   "dataSources": [
    {
     "datasetId": 228,
     "sourceId": 482,
     "sourceType": "datasetVersion"
    }
   ],
   "dockerImageVersionId": 30761,
   "isGpuEnabled": false,
   "isInternetEnabled": true,
   "language": "python",
   "sourceType": "notebook"
  },
  "kernelspec": {
   "display_name": "Python 3",
   "language": "python",
   "name": "python3"
  },
  "language_info": {
   "codemirror_mode": {
    "name": "ipython",
    "version": 3
   },
   "file_extension": ".py",
   "mimetype": "text/x-python",
   "name": "python",
   "nbconvert_exporter": "python",
   "pygments_lexer": "ipython3",
   "version": "3.12.4"
  },
  "papermill": {
   "default_parameters": {},
   "duration": 7.664567,
   "end_time": "2024-09-05T04:26:14.801731",
   "environment_variables": {},
   "exception": null,
   "input_path": "__notebook__.ipynb",
   "output_path": "__notebook__.ipynb",
   "parameters": {},
   "start_time": "2024-09-05T04:26:07.137164",
   "version": "2.6.0"
  }
 },
 "nbformat": 4,
 "nbformat_minor": 5
}
