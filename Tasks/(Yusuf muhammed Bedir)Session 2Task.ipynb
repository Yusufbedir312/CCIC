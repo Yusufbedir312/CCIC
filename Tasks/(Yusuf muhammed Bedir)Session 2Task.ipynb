{
 "cells": [
  {
   "cell_type": "markdown",
   "metadata": {},
   "source": [
    "CALLING"
   ]
  },
  {
   "cell_type": "code",
   "execution_count": 1,
   "metadata": {},
   "outputs": [
    {
     "name": "stdout",
     "output_type": "stream",
     "text": [
      "Hello,  alice !\n"
     ]
    }
   ],
   "source": [
    "def greet(name):\n",
    "    print(\"Hello, \" , name , \"!\")\n",
    "\n",
    "\n",
    "\n",
    "greet(\"alice\")"
   ]
  },
  {
   "cell_type": "markdown",
   "metadata": {},
   "source": [
    "POSITIONAL PARAMETERS"
   ]
  },
  {
   "cell_type": "code",
   "execution_count": 2,
   "metadata": {},
   "outputs": [
    {
     "name": "stdout",
     "output_type": "stream",
     "text": [
      "8\n"
     ]
    }
   ],
   "source": [
    "def add(x,y=0):\n",
    "    return x+y\n",
    "\n",
    "result=add(3,5)\n",
    "print(result)\n"
   ]
  },
  {
   "cell_type": "code",
   "execution_count": 3,
   "metadata": {},
   "outputs": [
    {
     "name": "stdout",
     "output_type": "stream",
     "text": [
      "5\n",
      "-5\n"
     ]
    }
   ],
   "source": [
    "def sub(x,y):\n",
    "    return x-y\n",
    "sub1 = sub(10,5)\n",
    "print(sub1)\n",
    "\n",
    "sub2 = sub(5,10)\n",
    "print(sub2)"
   ]
  },
  {
   "cell_type": "code",
   "execution_count": 4,
   "metadata": {},
   "outputs": [
    {
     "name": "stdout",
     "output_type": "stream",
     "text": [
      "Hello , alice!\n"
     ]
    }
   ],
   "source": [
    "def greet2(name , messenge):\n",
    "    print(f\"{messenge} , {name}!\")\n",
    "\n",
    "name = \"alice\"\n",
    "msg = \"Hello\"\n",
    "\n",
    "greet2(name , msg)"
   ]
  },
  {
   "cell_type": "markdown",
   "metadata": {},
   "source": [
    "ANON functions "
   ]
  },
  {
   "cell_type": "code",
   "execution_count": 5,
   "metadata": {},
   "outputs": [
    {
     "name": "stdout",
     "output_type": "stream",
     "text": [
      "[1, 4, 9, 16, 25, 21609, 97344]\n"
     ]
    }
   ],
   "source": [
    "nums = [1,2,3,4,5,147,312]\n",
    "sqrd = map(lambda x: x**2 , nums)\n",
    "print(list(sqrd))"
   ]
  },
  {
   "cell_type": "code",
   "execution_count": 6,
   "metadata": {},
   "outputs": [
    {
     "name": "stdout",
     "output_type": "stream",
     "text": [
      "[{'name': 'alice', 'age': 20}, {'name': 'yusuf', 'age': 22}, {'name': 'maryam', 'age': 23}]\n"
     ]
    }
   ],
   "source": [
    "students = [\n",
    "    {\"name\" : \"alice\" , \"age\": 20},\n",
    "    {\"name\" : \"maryam\" , \"age\": 23},\n",
    "    {\"name\" : \"yusuf\" , \"age\": 22}\n",
    "]\n",
    "\n",
    "students.sort(key=lambda student: student[\"age\"])\n",
    "print(students)"
   ]
  },
  {
   "cell_type": "markdown",
   "metadata": {},
   "source": [
    "Recursion"
   ]
  },
  {
   "cell_type": "code",
   "execution_count": 7,
   "metadata": {},
   "outputs": [
    {
     "data": {
      "text/plain": [
       "6"
      ]
     },
     "execution_count": 7,
     "metadata": {},
     "output_type": "execute_result"
    }
   ],
   "source": [
    "def factorial(n):\n",
    "    if n==0:\n",
    "        return 1\n",
    "    else:\n",
    "        return n*factorial(n-1)\n",
    "    \n",
    "factorial(3)"
   ]
  },
  {
   "cell_type": "markdown",
   "metadata": {},
   "source": [
    "Nested functions"
   ]
  },
  {
   "cell_type": "code",
   "execution_count": 8,
   "metadata": {},
   "outputs": [
    {
     "name": "stdout",
     "output_type": "stream",
     "text": [
      "8\n"
     ]
    }
   ],
   "source": [
    "def outer_fun(x):\n",
    "    def inner_fun(y):\n",
    "        return x+y\n",
    "    return inner_fun\n",
    "\n",
    "result=outer_fun(5)(3)\n",
    "print(result)"
   ]
  },
  {
   "cell_type": "code",
   "execution_count": 9,
   "metadata": {},
   "outputs": [
    {
     "name": "stdout",
     "output_type": "stream",
     "text": [
      "1\n",
      "2\n",
      "3\n"
     ]
    }
   ],
   "source": [
    "def outer():\n",
    "    x=0\n",
    "    def inner():\n",
    "        nonlocal x\n",
    "        x +=1\n",
    "        return x\n",
    "    return inner\n",
    "counter = outer()\n",
    "print(counter())\n",
    "print(counter())\n",
    "print(counter())"
   ]
  },
  {
   "cell_type": "code",
   "execution_count": 10,
   "metadata": {},
   "outputs": [
    {
     "name": "stdout",
     "output_type": "stream",
     "text": [
      "Before funtion call\n",
      "Hello! World\n",
      "After function call\n"
     ]
    }
   ],
   "source": [
    "def my_decorator(func):\n",
    "    def wrapper():\n",
    "        print(\"Before funtion call\")\n",
    "        func()\n",
    "        print(\"After function call\")\n",
    "    return wrapper\n",
    "\n",
    "@my_decorator\n",
    "def say_hello():\n",
    "    print(\"Hello! World\")\n",
    "\n",
    "say_hello()"
   ]
  },
  {
   "cell_type": "code",
   "execution_count": 11,
   "metadata": {},
   "outputs": [
    {
     "name": "stdout",
     "output_type": "stream",
     "text": [
      "24\n",
      "36\n"
     ]
    }
   ],
   "source": [
    "def mulby(n):\n",
    "    def multiplier(x):\n",
    "        return x*n\n",
    "    return multiplier\n",
    "\n",
    "double = mulby(2)\n",
    "triple = mulby(3)\n",
    "\n",
    "print(double(12))\n",
    "print(triple(12))"
   ]
  },
  {
   "cell_type": "markdown",
   "metadata": {},
   "source": [
    "python libraries"
   ]
  },
  {
   "cell_type": "code",
   "execution_count": 12,
   "metadata": {},
   "outputs": [
    {
     "name": "stdout",
     "output_type": "stream",
     "text": [
      "['Aimlabs.url', 'CCIC', 'desktop.ini', 'Discord.url', 'employee-attrition-eda-with-hr-dataset.ipynb', 'Grand Theft Auto V.url', 'image_captioning_CNN_LSTM (Arabic).ipynb', 'image_captioning_CNN_LSTM (English).ipynb', 'NEW_DIRETORY', 'NLP_Section3.ipynb', 'Rockstar Games Launcher.lnk', 'Rootics', 'Spotify.lnk', 'Visual Studio Code.lnk', 'WhatsApp.url']\n"
     ]
    }
   ],
   "source": [
    "import os\n",
    "\n",
    "#navigate to directory\n",
    "os.chdir(r'C:\\Users\\bedir\\Desktop')\n",
    "\n",
    "#create new directory\n",
    "\n",
    "os.mkdir('NEW_DIRETORY')\n",
    "\n",
    "#list files in direcctory\n",
    "\n",
    "files=os.listdir('.')\n",
    "print(files)"
   ]
  },
  {
   "cell_type": "code",
   "execution_count": 13,
   "metadata": {},
   "outputs": [
    {
     "name": "stdout",
     "output_type": "stream",
     "text": [
      "3.12.4 (tags/v3.12.4:8e8a4ba, Jun  6 2024, 19:30:16) [MSC v.1940 64 bit (AMD64)]\n"
     ]
    }
   ],
   "source": [
    "import sys\n",
    "#get python version\n",
    "print(sys.version)"
   ]
  },
  {
   "cell_type": "code",
   "execution_count": 14,
   "metadata": {},
   "outputs": [
    {
     "name": "stdout",
     "output_type": "stream",
     "text": [
      "Square root of  12 is  3.4641016151377544\n",
      "value of pi is  3.141592653589793\n"
     ]
    }
   ],
   "source": [
    "import math\n",
    "numb = 12\n",
    "sqrt = math.sqrt(numb)\n",
    "print(\"Square root of \",numb,\"is \" , sqrt)\n",
    "\n",
    "pi =math.pi\n",
    "print(\"value of pi is \",pi)"
   ]
  },
  {
   "cell_type": "code",
   "execution_count": 15,
   "metadata": {},
   "outputs": [
    {
     "name": "stdout",
     "output_type": "stream",
     "text": [
      "The random number is :  0.12252289656389537\n",
      "Shuffled list is :  [1, 147, 312, 5, 3, 4, 2]\n",
      "Random color is :  black\n"
     ]
    }
   ],
   "source": [
    "import random\n",
    "\n",
    "rand_num = random.random()\n",
    "print(\"The random number is : \",rand_num)\n",
    "\n",
    "num_list = [1,2,3,4,5,147,312]\n",
    "random.shuffle(num_list)\n",
    "print(\"Shuffled list is : \" , num_list)\n",
    "\n",
    "colors = [\"red\" , \"green\" , \"blue\" , \"white\" , \"black\" , \"purble\"]\n",
    "random_color = random.choice(colors)\n",
    "print(\"Random color is : \",random_color)"
   ]
  },
  {
   "cell_type": "code",
   "execution_count": 16,
   "metadata": {},
   "outputs": [
    {
     "name": "stdout",
     "output_type": "stream",
     "text": [
      "Pattern found :  fox\n",
      "New text :  The quick brown red devil jumbs over the lazy dog.\n"
     ]
    }
   ],
   "source": [
    "import re\n",
    "\n",
    "txt=\"The quick brown fox jumbs over the lazy dog.\"\n",
    "pattern = \"fox\"\n",
    "match=re.search(pattern , txt)\n",
    "if match:\n",
    "    print(\"Pattern found : \" , match.group())\n",
    "else:\n",
    "    print(\"Pattern not found.\")\n",
    "\n",
    "replace = \"red devil\"\n",
    "\n",
    "ntxt = re.sub(pattern , replace , txt)\n",
    "\n",
    "print(\"New text : \" , ntxt)\n"
   ]
  },
  {
   "cell_type": "code",
   "execution_count": 17,
   "metadata": {},
   "outputs": [
    {
     "name": "stdout",
     "output_type": "stream",
     "text": [
      "JSON data :  {\"name\": \"Jhon\", \"age\": 30, \"city\": \"Milano\"}\n",
      "Decode data :  {'name': 'Jhon', 'age': 30, 'city': 'Milano'}\n"
     ]
    }
   ],
   "source": [
    "import json\n",
    "\n",
    "data = {\n",
    "    \"name\" : \"Jhon\",\n",
    "    \"age\" : 30,\n",
    "    \"city\" : \"Milano\"\n",
    "}\n",
    "json_data = json.dumps(data)\n",
    "print(\"JSON data : \", json_data)\n",
    "\n",
    "jsn_str = '{\"name\" : \"Jhon\", \"age\" : 30, \"city\" : \"Milano\"}'\n",
    "decode_data = json.loads(jsn_str)\n",
    "print(\"Decode data : \" , decode_data)"
   ]
  },
  {
   "cell_type": "code",
   "execution_count": 18,
   "metadata": {},
   "outputs": [
    {
     "name": "stdout",
     "output_type": "stream",
     "text": [
      "['name', 'age', 'City']\n",
      "['Jhon', '30', 'Milano']\n",
      "['Jane', '25', 'Athenes']\n",
      "['bob', '40', 'Monaco']\n"
     ]
    }
   ],
   "source": [
    "import csv\n",
    "\n",
    "data = [\n",
    "    [\"name\" , \"age\" , \"City\"],\n",
    "    [\"Jhon\" , 30 , \"Milano\"],\n",
    "    [\"Jane\" , 25 , \"Athenes\"],\n",
    "    [\"bob\" , 40 , \"Monaco\"]\n",
    "]\n",
    "\n",
    "with open(\"data.csv\" , mode=\"w\" , newline=\"\") as file:\n",
    "    writer = csv.writer(file)\n",
    "    writer.writerows(data)\n",
    "\n",
    "with open(\"data.csv\" , mode=\"r\") as file:\n",
    "    reader = csv.reader(file)\n",
    "    for row in reader:\n",
    "        print(row)"
   ]
  },
  {
   "cell_type": "code",
   "execution_count": 19,
   "metadata": {},
   "outputs": [
    {
     "name": "stdout",
     "output_type": "stream",
     "text": [
      "Current date and time is  2024-08-04 01:24:13.543532\n",
      "Current date and time is 2024-08-04 01-24-13\n",
      "Spcified date and time is  2002-07-14 03:12:01\n",
      "New date and time is  2002-07-15 03:12:01\n"
     ]
    }
   ],
   "source": [
    "import datetime\n",
    "\n",
    "now = datetime.datetime.now()\n",
    "print(\"Current date and time is \" , now)\n",
    "\n",
    "formatted = now.strftime(\"%Y-%m-%d %H-%M-%S\")\n",
    "print(\"Current date and time is\", formatted)\n",
    "\n",
    "date_time =datetime.datetime(2002 , 7 , 14 , 3 ,12 ,1 )\n",
    "print('Spcified date and time is ' , date_time )\n",
    "\n",
    "oneday = datetime.timedelta(days=1)\n",
    "New_date_time = date_time + oneday\n",
    "print(\"New date and time is \" , New_date_time)"
   ]
  },
  {
   "cell_type": "code",
   "execution_count": 20,
   "metadata": {},
   "outputs": [
    {
     "name": "stdout",
     "output_type": "stream",
     "text": [
      "ID array  [1 2 3 4 5]\n",
      "2d array is \n",
      " [[1 2 3]\n",
      " [4 5 6]\n",
      " [7 8 9]]\n",
      "Shape of 2d array is  (3, 3)\n",
      "element at position (1,2) is  6\n",
      "Sum of arrays :  [5 7 9]\n",
      "Mean of array :  2.0\n"
     ]
    }
   ],
   "source": [
    "import numpy as np \n",
    "\n",
    "arrid = np.array([1,2,3,4,5])\n",
    "print(\"ID array \" , arrid)\n",
    "\n",
    "arr2d = np.array([[1,2,3] , [4,5,6] , [7,8,9,]])\n",
    "print(\"2d array is \\n\" , arr2d)\n",
    "\n",
    "shape=arr2d.shape\n",
    "print(\"Shape of 2d array is \" , shape)\n",
    "\n",
    "elm = arr2d[1,2]\n",
    "print(\"element at position (1,2) is \" , elm)\n",
    "\n",
    "arr1=np.array([1,2,3])\n",
    "arr2=np.array([4,5,6])\n",
    "sum_arr = arr1+arr2\n",
    "print(\"Sum of arrays : \" , sum_arr)\n",
    "\n",
    "mean_arr = np.mean(arr1)\n",
    "print(\"Mean of array : \" , mean_arr)"
   ]
  },
  {
   "cell_type": "code",
   "execution_count": 27,
   "metadata": {},
   "outputs": [
    {
     "name": "stdout",
     "output_type": "stream",
     "text": [
      "Original dataframe : \n",
      "   name  age     City\n",
      "0  Jhon   30   Milano\n",
      "1  Jane   25  Athenes\n",
      "2   bob   40   Monaco\n",
      "Selected rows \n",
      "  name  age    City\n",
      "2  bob   40  Monaco\n",
      "sorted dataframe : \n",
      "   name  age     City\n",
      "1  Jane   25  Athenes\n",
      "0  Jhon   30   Milano\n",
      "2   bob   40   Monaco\n",
      "Grouped data frame is \n",
      "City\n",
      "Athenes    25.0\n",
      "Milano     30.0\n",
      "Monaco     40.0\n",
      "Name: age, dtype: float64\n"
     ]
    }
   ],
   "source": [
    "import pandas as pd \n",
    "df=pd.read_csv(r\"C:\\Users\\bedir\\Desktop\\CCIC\\data.csv\")\n",
    "print(\"Original dataframe : \")\n",
    "print(df)\n",
    "\n",
    "selectd_rows = df[df[\"age\"] > 30 ]\n",
    "print(\"Selected rows \")\n",
    "print(selectd_rows)\n",
    "\n",
    "sorted_df = df.sort_values(\"name\")\n",
    "print(\"sorted dataframe : \")\n",
    "print(sorted_df)\n",
    "\n",
    "grouped_df = df.groupby(\"City\")[\"age\"].mean()\n",
    "print(\"Grouped data frame is \")\n",
    "print(grouped_df)"
   ]
  },
  {
   "cell_type": "code",
   "execution_count": 28,
   "metadata": {},
   "outputs": [
    {
     "data": {
      "image/png": "[encoded data removed]",
      "text/plain": [
       "<Figure size 640x480 with 1 Axes>"
      ]
     },
     "metadata": {},
     "output_type": "display_data"
    }
   ],
   "source": [
    "import matplotlib.pyplot as plt \n",
    "\n",
    "x=np.arange(0,10,0.1)\n",
    "y=np.sin(x)\n",
    "\n",
    "plt.plot(x,y)\n",
    "plt.xlabel(\"x\")\n",
    "plt.ylabel(\"y = sin(x)\")\n",
    "plt.title(\"Sin function\")\n",
    "plt.show()"
   ]
  },
  {
   "cell_type": "markdown",
   "metadata": {},
   "source": [
    "I'm facing a problem loading / importing the IMDb movies data set to try the sentiment analysis task either on Colab or locally on my laptop."
   ]
  },
  {
   "cell_type": "markdown",
   "metadata": {},
   "source": []
  }
 ],
 "metadata": {
  "kernelspec": {
   "display_name": "Python 3",
   "language": "python",
   "name": "python3"
  },
  "language_info": {
   "codemirror_mode": {
    "name": "ipython",
    "version": 3
   },
   "file_extension": ".py",
   "mimetype": "text/x-python",
   "name": "python",
   "nbconvert_exporter": "python",
   "pygments_lexer": "ipython3",
   "version": "3.12.4"
  }
 },
 "nbformat": 4,
 "nbformat_minor": 2
}
