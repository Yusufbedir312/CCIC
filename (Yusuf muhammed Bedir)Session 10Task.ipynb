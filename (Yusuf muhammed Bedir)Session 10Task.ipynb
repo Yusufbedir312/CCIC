{
 "cells": [
  {
   "cell_type": "markdown",
   "metadata": {},
   "source": [
    "# LAB 1: Matrix and Vector Computations in python\n",
    "In this lab you will use python to study the following topics:\n",
    "\n",
    "- How to create matrices and vectors in python.\n",
    "\n",
    "- How to manipulate matrices in python and create matrices of special types.\n",
    "\n",
    "- How to add matrices and multiply a vector by a matrix by python.\n",
    "\n",
    "- Solving System of Linear Equations Using Gaussian Elimination.\n",
    "\n",
    "- Matrix Multiplication using Different views."
   ]
  },
  {
   "cell_type": "markdown",
   "metadata": {},
   "source": [
    "# First: you should run this cell"
   ]
  },
  {
   "cell_type": "code",
   "execution_count": 1,
   "metadata": {},
   "outputs": [],
   "source": [
    "# Make all numpy available via shorter 'np' prefix\n",
    "import numpy as np\n",
    "\n",
    "import sympy as sym"
   ]
  },
  {
   "cell_type": "markdown",
   "metadata": {},
   "source": [
    "# Question 1 :Declaring scalars, vectors, and matrices\n",
    "\n",
    "a) Use [numpy.array](https://numpy.org/doc/stable/reference/generated/numpy.array.html) to declare the following:\n",
    "\n",
    "1. A scalar $s = 5$\n",
    "2. A vector $v = \\begin{bmatrix} 5  \\\\ -2 \\\\ 4  \\\\ \\end{bmatrix}$\n",
    "3. A matrix $A = \\begin{bmatrix} 1 & 2 & 3  \\\\ 4 & 5 & 6 \\\\ 7 & 8 & 9  \\\\ \\end{bmatrix}$\n",
    "4. A matrix $B = \\begin{bmatrix} 1 & 2 & 3  \\\\ 4 & 5 & 6 \\\\ \\end{bmatrix}$\n",
    "5. A matrix $C = \\begin{bmatrix} 1 & 2   \\\\ 3 & 4  \\\\ 5 & 6   \\\\ \\end{bmatrix}$"
   ]
  },
  {
   "cell_type": "code",
   "execution_count": 3,
   "metadata": {},
   "outputs": [],
   "source": [
    "#type your code here:\n",
    "\n",
    "# Scalar\n",
    "s = np.array(5)\n",
    "\n",
    "# Vector\n",
    "v = np.array([5, -2, 4])  # Assuming 'r1' is a variable containing the value\n",
    "\n",
    "# Matrix A\n",
    "A = np.array([[1, 2, 3],\n",
    "              [4, 5, 6],\n",
    "              [7, 8, 9]])\n",
    "\n",
    "# Matrix B\n",
    "B = np.array([[1, 2, 3],\n",
    "              [4, 5, 6]])\n",
    "\n",
    "# Matrix C\n",
    "C = np.array([[1, 2],\n",
    "              [3, 4],\n",
    "              [5, 6]])"
   ]
  },
  {
   "cell_type": "markdown",
   "metadata": {},
   "source": [
    "b) Print the data type of $s, v,$ and $A$ using `type` command in python."
   ]
  },
  {
   "cell_type": "code",
   "execution_count": 4,
   "metadata": {},
   "outputs": [
    {
     "name": "stdout",
     "output_type": "stream",
     "text": [
      "type(s) =  <class 'numpy.ndarray'>\n",
      "type(v) =  <class 'numpy.ndarray'>\n",
      "type(A) =  <class 'numpy.ndarray'>\n"
     ]
    }
   ],
   "source": [
    "#type your code here:\n",
    "print(\"type(s) = \", type(s))\n",
    "print(\"type(v) = \", type(v))\n",
    "print(\"type(A) = \", type(A))"
   ]
  },
  {
   "cell_type": "markdown",
   "metadata": {},
   "source": [
    "c) Using [numpy.shape](https://numpy.org/devdocs/reference/generated/numpy.shape.html) or `A.shape` print the shape of $s, v, A, B,$ and $C$."
   ]
  },
  {
   "cell_type": "code",
   "execution_count": 5,
   "metadata": {},
   "outputs": [
    {
     "name": "stdout",
     "output_type": "stream",
     "text": [
      "Shape of s: ()\n",
      "Shape of v: (3,)\n",
      "Shape of A: (3, 3)\n",
      "Shape of B: (2, 3)\n",
      "Shape of C: (3, 2)\n"
     ]
    }
   ],
   "source": [
    "#type your code here:\n",
    "print(\"Shape of s:\", s.shape)\n",
    "print(\"Shape of v:\", v.shape)\n",
    "print(\"Shape of A:\", A.shape)\n",
    "print(\"Shape of B:\", B.shape)\n",
    "print(\"Shape of C:\", C.shape)"
   ]
  },
  {
   "cell_type": "markdown",
   "metadata": {},
   "source": [
    "d) To access a given entry in the `numpy array` put the `row number - 1` and `column number - 1` in square brackets following the array name. Ex `a32 = A[2, 1]`.\n",
    "- Print the value of the third row and the second column of the matrix $A$.\n",
    "- Change it to $10$.\n",
    "- Print the matrix A to check the entry is changed."
   ]
  },
  {
   "cell_type": "code",
   "execution_count": 6,
   "metadata": {},
   "outputs": [
    {
     "name": "stdout",
     "output_type": "stream",
     "text": [
      "Value at A[2, 1]: 8\n",
      "Updated matrix A:\n",
      " [[ 1  2  3]\n",
      " [ 4  5  6]\n",
      " [ 7 10  9]]\n"
     ]
    }
   ],
   "source": [
    "#type your code here:\n",
    "print(\"Value at A[2, 1]:\", A[2, 1])\n",
    "A[2, 1] = 10\n",
    "print(\"Updated matrix A:\\n\", A)"
   ]
  },
  {
   "cell_type": "markdown",
   "metadata": {},
   "source": [
    "e)To access a whole row or column of a matrix, use the colon operator. For example, `A[:, [1]]` is the second column of A, while `B[[1], :]` is the second row of B."
   ]
  },
  {
   "cell_type": "code",
   "execution_count": 7,
   "metadata": {},
   "outputs": [
    {
     "name": "stdout",
     "output_type": "stream",
     "text": [
      "Second column of A:\n",
      " [ 2  5 10]\n"
     ]
    }
   ],
   "source": [
    "#type your code here:\n",
    "second_column = A[:, 1]\n",
    "print(\"Second column of A:\\n\", second_column)"
   ]
  },
  {
   "cell_type": "markdown",
   "metadata": {},
   "source": [
    "f) Type each of the following commands that generate special matrices:\n",
    "- `np.eye(4), np.zeros(3), np.zeros((3, 1)), np.zeros((3, 5)), np.ones((2, 3)), and np.diag([4, 5, 6, 7])`"
   ]
  },
  {
   "cell_type": "code",
   "execution_count": 8,
   "metadata": {},
   "outputs": [
    {
     "name": "stdout",
     "output_type": "stream",
     "text": [
      "Identity matrix:\n",
      " [[1. 0. 0. 0.]\n",
      " [0. 1. 0. 0.]\n",
      " [0. 0. 1. 0.]\n",
      " [0. 0. 0. 1.]]\n",
      "Zeros matrix 3x3:\n",
      " [[0. 0. 0.]\n",
      " [0. 0. 0.]\n",
      " [0. 0. 0.]]\n",
      "Zeros vector 3x1:\n",
      " [[0.]\n",
      " [0.]\n",
      " [0.]]\n",
      "Zeros matrix 3x5:\n",
      " [[0. 0. 0. 0. 0.]\n",
      " [0. 0. 0. 0. 0.]\n",
      " [0. 0. 0. 0. 0.]]\n",
      "Ones matrix 2x3:\n",
      " [[1. 1. 1.]\n",
      " [1. 1. 1.]]\n",
      "Diagonal matrix:\n",
      " [[4 0 0 0]\n",
      " [0 5 0 0]\n",
      " [0 0 6 0]\n",
      " [0 0 0 7]]\n"
     ]
    }
   ],
   "source": [
    "#type your code here:\n",
    "\n",
    "eye_matrix = np.eye(4)\n",
    "zeros_matrix_3x3 = np.zeros((3, 3))\n",
    "zeros_vector_3x1 = np.zeros((3, 1))\n",
    "zeros_matrix_3x5 = np.zeros((3, 5))\n",
    "ones_matrix_2x3 = np.ones((2, 3))\n",
    "diag_matrix = np.diag([4, 5, 6, 7])\n",
    "\n",
    "print(\"Identity matrix:\\n\", eye_matrix)\n",
    "print(\"Zeros matrix 3x3:\\n\", zeros_matrix_3x3)\n",
    "print(\"Zeros vector 3x1:\\n\", zeros_vector_3x1)\n",
    "print(\"Zeros matrix 3x5:\\n\", zeros_matrix_3x5)\n",
    "print(\"Ones matrix 2x3:\\n\", ones_matrix_2x3)\n",
    "print(\"Diagonal matrix:\\n\", diag_matrix)"
   ]
  },
  {
   "cell_type": "markdown",
   "metadata": {},
   "source": [
    "# Question 2. Vectors Addition, Scaling, and dot product"
   ]
  },
  {
   "cell_type": "markdown",
   "metadata": {},
   "source": [
    "a) Declare vectors $v1 = \\begin{bmatrix} 1  \\\\ 2 \\\\ 7  \\\\ 4 \\\\ \\end{bmatrix}$ and $v2 = \\begin{bmatrix} 4  \\\\ 3 \\\\ 6  \\\\ 8 \\\\ \\end{bmatrix}$\n",
    "\n",
    "- Addition: $v1 + v2$\n",
    "- Subtraction: $v1 - v2$\n",
    "- Scaling by a number: $3 * v1$\n",
    "- Scaling by a number: $v1 / 2$"
   ]
  },
  {
   "cell_type": "code",
   "execution_count": 9,
   "metadata": {},
   "outputs": [
    {
     "name": "stdout",
     "output_type": "stream",
     "text": [
      "Addition: [ 5  5 13 12]\n",
      "Subtraction: [-3 -1  1 -4]\n",
      "Scaling by 3: [ 3  6 21 12]\n",
      "Scaling by 1/2: [0.5 1.  3.5 2. ]\n"
     ]
    }
   ],
   "source": [
    "#type your code here:\n",
    "v1 = np.array([1, 2, 7, 4])\n",
    "v2 = np.array([4, 3, 6, 8])\n",
    "\n",
    "addition_result = v1 + v2\n",
    "subtraction_result = v1 - v2\n",
    "scaling_result_1 = 3 * v1\n",
    "scaling_result_2 = v1 / 2\n",
    "\n",
    "print(\"Addition:\", addition_result)\n",
    "print(\"Subtraction:\", subtraction_result)\n",
    "print(\"Scaling by 3:\", scaling_result_1)\n",
    "print(\"Scaling by 1/2:\", scaling_result_2)"
   ]
  },
  {
   "cell_type": "markdown",
   "metadata": {},
   "source": [
    "b) Find the dot product between the two vectors $v1$ and $v2$ using the following:\n",
    "\n",
    "- [numpy.dot](https://numpy.org/doc/stable/reference/generated/numpy.dot.html)\n",
    "- [numpy.matmul](https://numpy.org/doc/stable/reference/generated/numpy.matmul.html#numpy.matmul)\n",
    "- `v1.T @ v2`"
   ]
  },
  {
   "cell_type": "code",
   "execution_count": 10,
   "metadata": {},
   "outputs": [
    {
     "name": "stdout",
     "output_type": "stream",
     "text": [
      "Dot product using np.dot: 84\n",
      "Dot product using np.matmul: 84\n",
      "Dot product using @ operator: 84\n"
     ]
    }
   ],
   "source": [
    "#type your code here:\n",
    "\n",
    "dot_product_1 = np.dot(v1, v2)\n",
    "\n",
    "dot_product_2 = np.matmul(v1, v2)\n",
    "\n",
    "dot_product_3 = v1 @ v2\n",
    "\n",
    "print(\"Dot product using np.dot:\", dot_product_1)\n",
    "print(\"Dot product using np.matmul:\", dot_product_2)\n",
    "print(\"Dot product using @ operator:\", dot_product_3)"
   ]
  },
  {
   "cell_type": "markdown",
   "metadata": {},
   "source": [
    "c) Find the length of the vectors $v1$ and $v2$.\n",
    "- Using [numpy.linalg.norm](https://numpy.org/doc/stable/reference/generated/numpy.linalg.norm.html)\n",
    "- Using the dot product and [numpy.sqrt](https://numpy.org/doc/stable/reference/generated/numpy.sqrt.html)\n"
   ]
  },
  {
   "cell_type": "code",
   "execution_count": 11,
   "metadata": {},
   "outputs": [
    {
     "name": "stdout",
     "output_type": "stream",
     "text": [
      "Length of v1 using np.linalg.norm: 8.366600265340756\n",
      "Length of v2 using np.linalg.norm: 11.180339887498949\n",
      "Length of v1 using dot product and np.sqrt: 8.366600265340756\n",
      "Length of v2 using dot product and np.sqrt: 11.180339887498949\n"
     ]
    }
   ],
   "source": [
    "#type your code here:\n",
    "import numpy as np\n",
    "\n",
    "length_v1_norm = np.linalg.norm(v1)\n",
    "length_v2_norm = np.linalg.norm(v2)\n",
    "\n",
    "length_v1_dot = np.sqrt(np.dot(v1, v1))\n",
    "length_v2_dot = np.sqrt(np.dot(v2, v2))\n",
    "\n",
    "print(\"Length of v1 using np.linalg.norm:\", length_v1_norm)\n",
    "print(\"Length of v2 using np.linalg.norm:\", length_v2_norm)\n",
    "\n",
    "print(\"Length of v1 using dot product and np.sqrt:\", length_v1_dot)\n",
    "print(\"Length of v2 using dot product and np.sqrt:\", length_v2_dot)"
   ]
  },
  {
   "cell_type": "markdown",
   "metadata": {},
   "source": [
    "d) Show that the vectors $u = \\begin{bmatrix} 3  \\\\ 2 \\\\ -1  \\\\ 4 \\\\ \\end{bmatrix}$ and $v = \\begin{bmatrix} 1  \\\\ -1 \\\\ 1  \\\\ 0 \\\\ \\end{bmatrix}$ are orthogonal.\n"
   ]
  },
  {
   "cell_type": "code",
   "execution_count": 11,
   "metadata": {},
   "outputs": [
    {
     "name": "stdout",
     "output_type": "stream",
     "text": [
      "Dot product: 0\n"
     ]
    }
   ],
   "source": [
    "#type your code here:\n",
    "u = np.array([3, 2, -1, 4])\n",
    "v = np.array([1, -1, 1, 0])\n",
    "\n",
    "dot_product = np.dot(u, v)\n",
    "\n",
    "print(\"Dot product:\", dot_product)"
   ]
  },
  {
   "cell_type": "markdown",
   "metadata": {},
   "source": [
    "# Question 3. Matrix Addition and Matrix-Vector Multiplication\n",
    "\n",
    "Declare vectors $u$ and $v$ and matrices $A$ and $B$ as following:\n",
    "- $u = \\begin{bmatrix} 2  \\\\ 7 \\\\ 2 \\\\ \\end{bmatrix}$, $v = \\begin{bmatrix} 8  \\\\ 2 \\\\ 4 \\\\ \\end{bmatrix}$\n",
    "- $A = \\begin{bmatrix} 7 & 3 & 5  \\\\ 4 & 6 & 2 \\\\ \\end{bmatrix}$, $B = \\begin{bmatrix} 0 & 6 & 4  \\\\ 2 & 3 & 0 \\\\ \\end{bmatrix}$\n",
    "\n",
    "a) Calculate the following using python.\n",
    "\n",
    "- $A+B$\n",
    "- $B+A$\n",
    "- $3A$\n",
    "- $6B$\n",
    "- $2(3B)$\n",
    "- $6A+15B$\n",
    "- $3(2A+5B)$\n",
    "- $(3A^T)^T$"
   ]
  },
  {
   "cell_type": "code",
   "execution_count": 13,
   "metadata": {},
   "outputs": [
    {
     "name": "stdout",
     "output_type": "stream",
     "text": [
      "A + B:\n",
      " [[7 9 9]\n",
      " [6 9 2]]\n",
      "B + A:\n",
      " [[7 9 9]\n",
      " [6 9 2]]\n",
      "3A:\n",
      " [[21  9 15]\n",
      " [12 18  6]]\n",
      "6B:\n",
      " [[ 0 36 24]\n",
      " [12 18  0]]\n",
      "2(3B):\n",
      " [[ 0 36 24]\n",
      " [12 18  0]]\n",
      "6A + 15B:\n",
      " [[ 42 108  90]\n",
      " [ 54  81  12]]\n",
      "3(2A + 5B):\n",
      " [[ 42 108  90]\n",
      " [ 54  81  12]]\n",
      "(3A^T)^T:\n",
      " [[21  9 15]\n",
      " [12 18  6]]\n"
     ]
    }
   ],
   "source": [
    "#type your code here:\n",
    "u = np.array([2, 7, 2])\n",
    "v = np.array([8, 4, 4])\n",
    "A = np.array([[7, 3, 5],\n",
    "              [4, 6, 2]])\n",
    "B = np.array([[0, 6, 4],\n",
    "              [2, 3, 0]])\n",
    "\n",
    "A_plus_B = A + B\n",
    "B_plus_A = B + A\n",
    "three_A = 3 * A\n",
    "six_B = 6 * B\n",
    "two_times_three_B = 2 * (3 * B)\n",
    "six_A_plus_fifteen_B = 6 * A + 15 * B\n",
    "three_times_two_A_plus_five_B = 3 * (2 * A + 5 * B)\n",
    "transpose_of_transpose_of_three_A = (3 * A.T).T\n",
    "\n",
    "print(\"A + B:\\n\", A_plus_B)\n",
    "print(\"B + A:\\n\", B_plus_A)\n",
    "print(\"3A:\\n\", three_A)\n",
    "print(\"6B:\\n\", six_B)\n",
    "print(\"2(3B):\\n\", two_times_three_B)\n",
    "print(\"6A + 15B:\\n\", six_A_plus_fifteen_B)\n",
    "print(\"3(2A + 5B):\\n\", three_times_two_A_plus_five_B)\n",
    "print(\"(3A^T)^T:\\n\", transpose_of_transpose_of_three_A)"
   ]
  },
  {
   "cell_type": "markdown",
   "metadata": {},
   "source": [
    "b) To obtain the matrix-vector product $Au$ using python, type `A @ u`. Calculate the following:\n",
    "\n",
    "- $Au+Av$\n",
    "- $A(u+v)$\n",
    "- $(A+B)u$\n",
    "- $Au+Bu$\n",
    "- $A(3u)$\n",
    "- $3A(u)$"
   ]
  },
  {
   "cell_type": "code",
   "execution_count": 14,
   "metadata": {},
   "outputs": [
    {
     "name": "stdout",
     "output_type": "stream",
     "text": [
      "Au + Av:\n",
      " [133 118]\n",
      "A(u + v):\n",
      " [133 118]\n",
      "(A + B)u:\n",
      " [95 79]\n",
      "Au + Bu:\n",
      " [95 79]\n",
      "A(3u):\n",
      " [135 162]\n",
      "3A(u):\n",
      " [135 162]\n"
     ]
    }
   ],
   "source": [
    "#type your code here:\n",
    "u = np.array([2, 7, 2])\n",
    "v = np.array([8, 4, 4])\n",
    "A = np.array([[7, 3, 5],\n",
    "              [4, 6, 2]])\n",
    "B = np.array([[0, 6, 4],\n",
    "              [2, 3, 0]])\n",
    "\n",
    "Au = A @ u\n",
    "Av = A @ v\n",
    "Bu = B @ u\n",
    "\n",
    "Au_plus_Av = Au + Av\n",
    "A_times_u_plus_v = A @ (u + v)\n",
    "A_plus_B_times_u = (A + B) @ u\n",
    "Au_plus_Bu = Au + Bu\n",
    "A_times_three_u = A @ (3 * u)\n",
    "three_A_times_u = 3 * (A @ u)\n",
    "\n",
    "print(\"Au + Av:\\n\", Au_plus_Av)\n",
    "print(\"A(u + v):\\n\", A_times_u_plus_v)\n",
    "print(\"(A + B)u:\\n\", A_plus_B_times_u)\n",
    "print(\"Au + Bu:\\n\", Au_plus_Bu)\n",
    "print(\"A(3u):\\n\", A_times_three_u)\n",
    "print(\"3A(u):\\n\", three_A_times_u)"
   ]
  },
  {
   "cell_type": "code",
   "execution_count": null,
   "metadata": {},
   "outputs": [],
   "source": []
  }
 ],
 "metadata": {
  "kernelspec": {
   "display_name": "Python 3",
   "language": "python",
   "name": "python3"
  },
  "language_info": {
   "codemirror_mode": {
    "name": "ipython",
    "version": 3
   },
   "file_extension": ".py",
   "mimetype": "text/x-python",
   "name": "python",
   "nbconvert_exporter": "python",
   "pygments_lexer": "ipython3",
   "version": "3.12.4"
  }
 },
 "nbformat": 4,
 "nbformat_minor": 4
}
