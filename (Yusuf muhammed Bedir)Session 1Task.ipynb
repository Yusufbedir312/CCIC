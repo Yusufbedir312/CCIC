{
 "cells": [
  {
   "cell_type": "markdown",
   "metadata": {},
   "source": [
    "(A) Introduction"
   ]
  },
  {
   "cell_type": "markdown",
   "metadata": {},
   "source": [
    "1) print"
   ]
  },
  {
   "cell_type": "code",
   "execution_count": 1,
   "metadata": {},
   "outputs": [
    {
     "name": "stdout",
     "output_type": "stream",
     "text": [
      "hello\n"
     ]
    }
   ],
   "source": [
    "print(\"hello\")"
   ]
  },
  {
   "cell_type": "markdown",
   "metadata": {},
   "source": [
    "2) add two numbers"
   ]
  },
  {
   "cell_type": "code",
   "execution_count": 2,
   "metadata": {},
   "outputs": [
    {
     "name": "stdout",
     "output_type": "stream",
     "text": [
      "7.8\n",
      "Sum of num1 and num2 =  7.8\n"
     ]
    }
   ],
   "source": [
    "print(1.5 + 6.3)\n",
    "\n",
    "num1 = 1.5\n",
    "num2 = 6.3\n",
    "\n",
    "sum = num1 + num2\n",
    "\n",
    "print(\"Sum of num1 and num2 = \" ,sum)"
   ]
  },
  {
   "cell_type": "markdown",
   "metadata": {},
   "source": [
    "3) Find the Square Root"
   ]
  },
  {
   "cell_type": "code",
   "execution_count": 3,
   "metadata": {},
   "outputs": [
    {
     "name": "stdout",
     "output_type": "stream",
     "text": [
      "int square root :  2.8284271247461903\n",
      "Square root 12 = 3.4641016151377544\n",
      "square root of (1+2j) =  (1.272019649514069+0.7861513777574233j)\n"
     ]
    }
   ],
   "source": [
    "# defined number\n",
    "\n",
    "denum = 8\n",
    "desqrt = denum ** 0.5\n",
    "print(\"int square root : \" ,desqrt)\n",
    "\n",
    "# user input integer number \n",
    "\n",
    "inputintnum = int(input(\"Enter integer squared number: \"))\n",
    "print(\"Square root {} = {}\".format(inputintnum , inputintnum ** 0.5))\n",
    "\n",
    "#real or complex numbers\n",
    "\n",
    "import cmath\n",
    "\n",
    "cnum = 1+2j\n",
    "cnum_sqrt=cmath.sqrt(cnum)\n",
    "print(\"square root of (1+2j) = \",cnum_sqrt)\n"
   ]
  },
  {
   "cell_type": "markdown",
   "metadata": {},
   "source": [
    "4) Calculate the Area of a Triangle"
   ]
  },
  {
   "cell_type": "code",
   "execution_count": 4,
   "metadata": {},
   "outputs": [
    {
     "name": "stdout",
     "output_type": "stream",
     "text": [
      "The area of the triangle =  14.696938456699069\n"
     ]
    }
   ],
   "source": [
    "#s = (a+b+c)/2\n",
    "#area = √(s(s-a)*(s-b)*(s-c))\n",
    "\n",
    "#defined values\n",
    "a = 5\n",
    "b = 6\n",
    "c = 7\n",
    "\n",
    "# calculate the semi-perimeter\n",
    "s = (a + b + c) / 2\n",
    "\n",
    "# calculate the area\n",
    "area = (s*(s-a)*(s-b)*(s-c)) ** 0.5\n",
    "\n",
    "print(\"The area of the triangle = \" ,area)\n"
   ]
  },
  {
   "cell_type": "markdown",
   "metadata": {},
   "source": [
    "5) Solve Quadratic Equation"
   ]
  },
  {
   "cell_type": "code",
   "execution_count": 5,
   "metadata": {},
   "outputs": [
    {
     "name": "stdout",
     "output_type": "stream",
     "text": [
      "The solution are (-3+0j) and (-2+0j)\n"
     ]
    }
   ],
   "source": [
    "# standard form of a quadratic equation\n",
    "# ax2 + bx + c = 0, where\n",
    "# a, b and c are real numbers and\n",
    "# a ≠ 0\n",
    "\n",
    "#solutions of quadratic equation is given by\n",
    "# (-b ± (b ** 2 - 4 * a * c) ** 0.5) / (2 * a)\n",
    "\n",
    "# Solve this quadratic equation x**2 + 5x + 6 = 0\n",
    "a = 1\n",
    "b = 5\n",
    "c = 6\n",
    "\n",
    "# calculate the discriminant\n",
    "d = (b**2) - (4*a*c)\n",
    "\n",
    "# find two solutions\n",
    "sol1 = (-b-cmath.sqrt(d))/(2*a)\n",
    "sol2 = (-b+cmath.sqrt(d))/(2*a)\n",
    "\n",
    "print('The solution are {0} and {1}'.format(sol1,sol2))\n"
   ]
  },
  {
   "cell_type": "markdown",
   "metadata": {},
   "source": [
    "6) Swap Two Variables"
   ]
  },
  {
   "cell_type": "code",
   "execution_count": 6,
   "metadata": {},
   "outputs": [
    {
     "name": "stdout",
     "output_type": "stream",
     "text": [
      "The value of x after swapping:  10\n",
      "The value of y after swapping:  5\n"
     ]
    }
   ],
   "source": [
    "x = 5\n",
    "y = 10\n",
    "\n",
    "# create a temporary variable and swap the values\n",
    "temp = x\n",
    "x = y\n",
    "y = temp\n",
    "\n",
    "print('The value of x after swapping: ' ,x)\n",
    "print('The value of y after swapping: ' ,y)"
   ]
  },
  {
   "cell_type": "markdown",
   "metadata": {},
   "source": [
    "7) Generate a Random Number"
   ]
  },
  {
   "cell_type": "code",
   "execution_count": 7,
   "metadata": {},
   "outputs": [
    {
     "name": "stdout",
     "output_type": "stream",
     "text": [
      "7\n"
     ]
    }
   ],
   "source": [
    "# importing the random module\n",
    "import random\n",
    "\n",
    "print(random.randint(3,12))"
   ]
  },
  {
   "cell_type": "markdown",
   "metadata": {},
   "source": [
    "8) Convert Kilometers to Miles"
   ]
  },
  {
   "cell_type": "code",
   "execution_count": 8,
   "metadata": {},
   "outputs": [
    {
     "name": "stdout",
     "output_type": "stream",
     "text": [
      "147.00 kilometers is equal to 91.34 miles\n"
     ]
    }
   ],
   "source": [
    "# Taking kilometers input from the user\n",
    "kilometers = float(input(\"Enter value in kilometers: \"))\n",
    "\n",
    "# conversion factor\n",
    "conv_fac = 0.621371\n",
    "\n",
    "# calculate miles\n",
    "miles = kilometers * conv_fac\n",
    "print('%0.2f kilometers is equal to %0.2f miles' %(kilometers,miles))\n"
   ]
  },
  {
   "cell_type": "markdown",
   "metadata": {},
   "source": [
    "9) Convert Celsius To Fahrenheit"
   ]
  },
  {
   "cell_type": "code",
   "execution_count": 9,
   "metadata": {},
   "outputs": [
    {
     "name": "stdout",
     "output_type": "stream",
     "text": [
      "36.0 degree Celsius is equal to 96.8 degree Fahrenheit\n"
     ]
    }
   ],
   "source": [
    "#fahrenheit = celsius * 1.8 + 32\n",
    "\n",
    "# change this value for a different result\n",
    "celsius = 36\n",
    "\n",
    "# calculate fahrenheit\n",
    "fahrenheit = (celsius * 1.8) + 32\n",
    "print('%0.1f degree Celsius is equal to %0.1f degree Fahrenheit' %(celsius,fahrenheit))"
   ]
  },
  {
   "cell_type": "markdown",
   "metadata": {},
   "source": [
    "10) Print Output Without a Newline"
   ]
  },
  {
   "cell_type": "code",
   "execution_count": 10,
   "metadata": {},
   "outputs": [
    {
     "name": "stdout",
     "output_type": "stream",
     "text": [
      "Python\n",
      "is easy to learn.\n",
      "m&Mm&Mm&M\n",
      "Python is easy to learn.\n"
     ]
    }
   ],
   "source": [
    "# print each statement on a new line\n",
    "print(\"Python\")\n",
    "print(\"is easy to learn.\")\n",
    "\n",
    "# seperator\n",
    "print(\"m&M\"*3)\n",
    "\n",
    "# print both the statements on a single line\n",
    "print(\"Python\", end=\" \")\n",
    "print(\"is easy to learn.\")"
   ]
  },
  {
   "cell_type": "markdown",
   "metadata": {},
   "source": [
    "(B) decision making loops"
   ]
  },
  {
   "cell_type": "markdown",
   "metadata": {},
   "source": [
    "1) Check if a Number is Positive, Negative or 0"
   ]
  },
  {
   "cell_type": "code",
   "execution_count": 11,
   "metadata": {},
   "outputs": [
    {
     "name": "stdout",
     "output_type": "stream",
     "text": [
      "312.0 is a Positive number \n"
     ]
    }
   ],
   "source": [
    "numd = float(input(\"Enter a number: \"))\n",
    "if numd >= 0:\n",
    "   if numd == 0:\n",
    "       print(\"Zero\")\n",
    "   else:\n",
    "       print(\"{0} is a Positive number \".format(numd))\n",
    "else:\n",
    "   print(\"{0} is a Negative number \".format(numd))"
   ]
  },
  {
   "cell_type": "markdown",
   "metadata": {},
   "source": [
    "2) Check if a Number is Odd or Even"
   ]
  },
  {
   "cell_type": "code",
   "execution_count": 12,
   "metadata": {},
   "outputs": [
    {
     "name": "stdout",
     "output_type": "stream",
     "text": [
      "7 is Odd\n"
     ]
    }
   ],
   "source": [
    "# A number is even if division by 2 gives a remainder of 0.\n",
    "# If the remainder is 1, it is an odd number.\n",
    "\n",
    "m = int(input(\"Enter a number: \"))\n",
    "if (m % 2) == 0:\n",
    "   print(\"{0} is Even\".format(m))\n",
    "else:\n",
    "   print(\"{0} is Odd\".format(m))"
   ]
  },
  {
   "cell_type": "markdown",
   "metadata": {},
   "source": [
    "3) Check Leap Year"
   ]
  },
  {
   "cell_type": "code",
   "execution_count": 13,
   "metadata": {},
   "outputs": [
    {
     "name": "stdout",
     "output_type": "stream",
     "text": [
      "2001 is not a leap year\n"
     ]
    }
   ],
   "source": [
    "\"\"\" 2017 is not a leap year\n",
    "1900 is a not leap year\n",
    "2012 is a leap year\n",
    "2000 is a leap year \"\"\" \n",
    "\n",
    "year = int(input(\"Enter a year: \"))\n",
    "\n",
    "# divided by 100 means century year (ending with 00)\n",
    "# century year divided by 400 is leap year\n",
    "if (year % 400 == 0) and (year % 100 == 0):\n",
    "    print(\"{0} is a leap year\".format(year))\n",
    "\n",
    "# not divided by 100 means not a century year\n",
    "# year divided by 4 is a leap year\n",
    "elif (year % 4 ==0) and (year % 100 != 0):\n",
    "    print(\"{0} is a leap year\".format(year))\n",
    "\n",
    "# if not divided by both 400 (century year) and 4 (not century year)\n",
    "# year is not leap year\n",
    "else:\n",
    "    print(\"{0} is not a leap year\".format(year))"
   ]
  },
  {
   "cell_type": "markdown",
   "metadata": {},
   "source": [
    "4) Find the Largest Among Three Numbers"
   ]
  },
  {
   "cell_type": "code",
   "execution_count": 14,
   "metadata": {},
   "outputs": [
    {
     "name": "stdout",
     "output_type": "stream",
     "text": [
      "The largest number is 12\n"
     ]
    }
   ],
   "source": [
    "num1 = 7\n",
    "num2 = 3\n",
    "num3 = 12\n",
    "\n",
    "if (num1 >= num2) and (num1 >= num3):\n",
    "   largest = num1\n",
    "elif (num2 >= num1) and (num2 >= num3):\n",
    "   largest = num2\n",
    "else:\n",
    "   largest = num3\n",
    "\n",
    "print(\"The largest number is\", largest)\n"
   ]
  },
  {
   "cell_type": "markdown",
   "metadata": {},
   "source": [
    "5) Check Prime Number"
   ]
  },
  {
   "cell_type": "code",
   "execution_count": 15,
   "metadata": {},
   "outputs": [
    {
     "name": "stdout",
     "output_type": "stream",
     "text": [
      "79 is a prime number\n"
     ]
    }
   ],
   "source": [
    "num = int(input(\"Enter a number: \"))\n",
    "\n",
    "if num == 1:\n",
    "    print(num, \"is not a prime number\")\n",
    "elif num > 1:\n",
    "   # check for factors\n",
    "   for i in range(2,num):\n",
    "       if (num % i) == 0:\n",
    "           print(num,\"is not a prime number\")\n",
    "           print(i,\"times\",num//i,\"is\",num)\n",
    "           break\n",
    "   else:\n",
    "       print(num,\"is a prime number\")\n",
    "       \n",
    "# if input number is less than\n",
    "# or equal to 1, it is not prime\n",
    "else:\n",
    "   print(num,\"is not a prime number\")"
   ]
  },
  {
   "cell_type": "markdown",
   "metadata": {},
   "source": [
    "6) Print all Prime Numbers in an Interval"
   ]
  },
  {
   "cell_type": "code",
   "execution_count": 16,
   "metadata": {},
   "outputs": [
    {
     "name": "stdout",
     "output_type": "stream",
     "text": [
      "Prime numbers between 147 and 312 are:\n",
      "149\n",
      "151\n",
      "157\n",
      "163\n",
      "167\n",
      "173\n",
      "179\n",
      "181\n",
      "191\n",
      "193\n",
      "197\n",
      "199\n",
      "211\n",
      "223\n",
      "227\n",
      "229\n",
      "233\n",
      "239\n",
      "241\n",
      "251\n",
      "257\n",
      "263\n",
      "269\n",
      "271\n",
      "277\n",
      "281\n",
      "283\n",
      "293\n",
      "307\n",
      "311\n"
     ]
    }
   ],
   "source": [
    "# Python program to display all the prime numbers within an interval\n",
    "\n",
    "lower = 147\n",
    "upper = 312\n",
    "\n",
    "print(\"Prime numbers between\", lower, \"and\", upper, \"are:\")\n",
    "\n",
    "for num in range(lower, upper + 1):\n",
    "   # all prime numbers are greater than 1\n",
    "   if num > 1:\n",
    "       for i in range(2, num):\n",
    "           if (num % i) == 0:\n",
    "               break\n",
    "       else:\n",
    "           print(num)"
   ]
  },
  {
   "cell_type": "markdown",
   "metadata": {},
   "source": [
    "7) Find the Factorial of a Number"
   ]
  },
  {
   "cell_type": "code",
   "execution_count": 17,
   "metadata": {},
   "outputs": [
    {
     "name": "stdout",
     "output_type": "stream",
     "text": [
      "The factorial of 12 is 479001600\n"
     ]
    }
   ],
   "source": [
    "def factorial(x):\n",
    "    \"\"\"This is a recursive function\n",
    "    to find the factorial of an integer\"\"\"\n",
    "\n",
    "    if x == 1:\n",
    "        return 1\n",
    "    else:\n",
    "        # recursive call to the function\n",
    "        return (x * factorial(x-1))\n",
    "\n",
    "\n",
    "\n",
    "num = int(input(\"Enter a number: \"))\n",
    "\n",
    "# call the factorial function\n",
    "result = factorial(num)\n",
    "print(\"The factorial of\", num, \"is\", result)"
   ]
  },
  {
   "cell_type": "markdown",
   "metadata": {},
   "source": [
    "8) Display the multiplication Table"
   ]
  },
  {
   "cell_type": "code",
   "execution_count": 18,
   "metadata": {},
   "outputs": [
    {
     "name": "stdout",
     "output_type": "stream",
     "text": [
      "12 x 1 = 12\n",
      "12 x 2 = 24\n",
      "12 x 3 = 36\n",
      "12 x 4 = 48\n",
      "12 x 5 = 60\n",
      "12 x 6 = 72\n",
      "12 x 7 = 84\n",
      "12 x 8 = 96\n",
      "12 x 9 = 108\n",
      "12 x 10 = 120\n"
     ]
    }
   ],
   "source": [
    "# Multiplication table (from 1 to 10) in Python\n",
    "\n",
    "num = 12\n",
    "\n",
    "# Iterate 10 times from i = 1 to 10\n",
    "for i in range(1, 11):\n",
    "   print(num, 'x', i, '=', num*i)\n"
   ]
  },
  {
   "cell_type": "markdown",
   "metadata": {},
   "source": [
    "9) Print the Fibonacci sequence"
   ]
  },
  {
   "cell_type": "code",
   "execution_count": 19,
   "metadata": {},
   "outputs": [
    {
     "name": "stdout",
     "output_type": "stream",
     "text": [
      "Fibonacci sequence:\n",
      "0\n",
      "1\n",
      "1\n",
      "2\n",
      "3\n",
      "5\n",
      "8\n",
      "13\n",
      "21\n",
      "34\n",
      "55\n",
      "89\n",
      "144\n",
      "233\n"
     ]
    }
   ],
   "source": [
    "\"\"\"A Fibonacci sequence is the integer sequence of 0, 1, 1, 2, 3, 5, 8....\n",
    "\n",
    "The first two terms are 0 and 1. All other terms are obtained by adding the preceding two terms. This means to say the nth term is the sum of (n-1)th and (n-2)th term.\"\"\"\n",
    "\n",
    "\n",
    "nterms = int(input(\"How many terms? \"))\n",
    "\n",
    "# first two terms\n",
    "n1, n2 = 0, 1\n",
    "count = 0\n",
    "\n",
    "# check if the number of terms is valid\n",
    "if nterms <= 0:\n",
    "   print(\"Please enter a positive integer\")\n",
    "# if there is only one term, return n1\n",
    "elif nterms == 1:\n",
    "   print(\"Fibonacci sequence upto\",nterms,\":\")\n",
    "   print(n1)\n",
    "# generate fibonacci sequence\n",
    "else:\n",
    "   print(\"Fibonacci sequence:\")\n",
    "   while count < nterms:\n",
    "       print(n1)\n",
    "       nth = n1 + n2\n",
    "       # update values\n",
    "       n1 = n2\n",
    "       n2 = nth\n",
    "       count += 1"
   ]
  },
  {
   "cell_type": "markdown",
   "metadata": {},
   "source": [
    "10) Check Armstrong Number"
   ]
  },
  {
   "cell_type": "code",
   "execution_count": 20,
   "metadata": {},
   "outputs": [
    {
     "name": "stdout",
     "output_type": "stream",
     "text": [
      "1634 is an Armstrong number\n"
     ]
    }
   ],
   "source": [
    "# Armstrong number is a number that is equal to the sum of cubes of its digits\n",
    "\n",
    "num = 1634\n",
    "\n",
    "order = len(str(num))\n",
    "\n",
    "# initialize sum\n",
    "sum = 0\n",
    "\n",
    "# find the sum of the cube of each digit\n",
    "temp = num\n",
    "while temp > 0:\n",
    "   digit = temp % 10\n",
    "   sum += digit ** order\n",
    "   temp //= 10\n",
    "\n",
    "# display the result\n",
    "if num == sum:\n",
    "   print(num,\"is an Armstrong number\")\n",
    "else:\n",
    "   print(num,\"is not an Armstrong number\")\n"
   ]
  },
  {
   "cell_type": "markdown",
   "metadata": {},
   "source": [
    "11) Find Armstrong Number in an Interval"
   ]
  },
  {
   "cell_type": "code",
   "execution_count": 21,
   "metadata": {},
   "outputs": [
    {
     "name": "stdout",
     "output_type": "stream",
     "text": [
      "153\n",
      "370\n",
      "371\n",
      "407\n",
      "1634\n"
     ]
    }
   ],
   "source": [
    "# Program to check Armstrong numbers in a certain interval\n",
    "\n",
    "lower = 100\n",
    "upper = 2000\n",
    "\n",
    "for num in range(lower, upper + 1):\n",
    "\n",
    "   # order of number\n",
    "   order = len(str(num))\n",
    "    \n",
    "   # initialize sum\n",
    "   sum = 0\n",
    "\n",
    "   temp = num\n",
    "   while temp > 0:\n",
    "       digit = temp % 10\n",
    "       sum += digit ** order\n",
    "       temp //= 10\n",
    "\n",
    "   if num == sum:\n",
    "       print(num)\n"
   ]
  },
  {
   "cell_type": "markdown",
   "metadata": {},
   "source": [
    "12) Find the Sum of Natural Numbers"
   ]
  },
  {
   "cell_type": "code",
   "execution_count": 22,
   "metadata": {},
   "outputs": [
    {
     "name": "stdout",
     "output_type": "stream",
     "text": [
      "The sum is 136\n"
     ]
    }
   ],
   "source": [
    "# Sum of natural numbers up to ya\n",
    "\n",
    "ya = 16\n",
    "\n",
    "if ya < 0:\n",
    "   print(\"Enter a positive number\")\n",
    "else:\n",
    "   sum = 0\n",
    "   # use while loop to iterate until zero\n",
    "   while(ya > 0):\n",
    "       sum += ya\n",
    "       ya -= 1\n",
    "   print(\"The sum is\", sum)\n"
   ]
  },
  {
   "cell_type": "markdown",
   "metadata": {},
   "source": [
    "13) Create Pyramid Patterns"
   ]
  },
  {
   "cell_type": "code",
   "execution_count": 23,
   "metadata": {},
   "outputs": [
    {
     "name": "stdout",
     "output_type": "stream",
     "text": [
      "                      * \n",
      "                    * * * \n",
      "                  * * * * * \n",
      "                * * * * * * * \n",
      "              * * * * * * * * * \n",
      "            * * * * * * * * * * * \n",
      "          * * * * * * * * * * * * * \n",
      "        * * * * * * * * * * * * * * * \n",
      "      * * * * * * * * * * * * * * * * * \n",
      "    * * * * * * * * * * * * * * * * * * * \n",
      "  * * * * * * * * * * * * * * * * * * * * * \n",
      "* * * * * * * * * * * * * * * * * * * * * * * \n"
     ]
    }
   ],
   "source": [
    "# print full pyramid using *\n",
    "\n",
    "rows = int(input(\"Enter number of rows: \"))\n",
    "\n",
    "k = 0\n",
    "\n",
    "for i in range(1, rows+1):\n",
    "    for space in range(1, (rows-i)+1):\n",
    "        print(end=\"  \")\n",
    "   \n",
    "    while k!=(2*i-1):\n",
    "        print(\"* \", end=\"\")\n",
    "        k += 1\n",
    "   \n",
    "    k = 0\n",
    "    print()"
   ]
  },
  {
   "cell_type": "markdown",
   "metadata": {},
   "source": [
    "14) Iterate Over Dictionaries Using for Loop"
   ]
  },
  {
   "cell_type": "code",
   "execution_count": 24,
   "metadata": {},
   "outputs": [
    {
     "name": "stdout",
     "output_type": "stream",
     "text": [
      "a juice\n",
      "b grill\n",
      "c corn\n"
     ]
    }
   ],
   "source": [
    "dt = {'a': 'juice', 'b': 'grill', 'c': 'corn'}\n",
    "\n",
    "for key, value in dt.items():\n",
    "    print(key, value)"
   ]
  },
  {
   "cell_type": "markdown",
   "metadata": {},
   "source": [
    "15) Reverse a Number"
   ]
  },
  {
   "cell_type": "code",
   "execution_count": 25,
   "metadata": {},
   "outputs": [
    {
     "name": "stdout",
     "output_type": "stream",
     "text": [
      "Reversed Number: 4321\n"
     ]
    }
   ],
   "source": [
    "out = 1234\n",
    "reversed_num = 0\n",
    "\n",
    "while out != 0:\n",
    "    digit = out % 10\n",
    "    reversed_num = reversed_num * 10 + digit\n",
    "    out //= 10\n",
    "\n",
    "print(\"Reversed Number: \" + str(reversed_num))"
   ]
  },
  {
   "cell_type": "markdown",
   "metadata": {},
   "source": [
    "16) Compute the Power of a Number"
   ]
  },
  {
   "cell_type": "code",
   "execution_count": 26,
   "metadata": {},
   "outputs": [
    {
     "name": "stdout",
     "output_type": "stream",
     "text": [
      "Answer = 81\n"
     ]
    }
   ],
   "source": [
    "#Calculate power of a number using a for loop\n",
    "base = 3\n",
    "exponent = 4\n",
    "\n",
    "result = 1\n",
    "\n",
    "for exponent in range(exponent, 0, -1):\n",
    "    result *= base\n",
    "\n",
    "print(\"Answer = \" + str(result))"
   ]
  },
  {
   "cell_type": "markdown",
   "metadata": {},
   "source": [
    "(C) Native Data Types"
   ]
  },
  {
   "cell_type": "markdown",
   "metadata": {},
   "source": [
    "1) Add Two Matrices"
   ]
  },
  {
   "cell_type": "code",
   "execution_count": 27,
   "metadata": {},
   "outputs": [
    {
     "name": "stdout",
     "output_type": "stream",
     "text": [
      "[17, 15, 4]\n",
      "[10, 12, 9]\n",
      "[11, 13, 18]\n"
     ]
    }
   ],
   "source": [
    "# Program to add two matrices using nested loop\n",
    "\n",
    "X = [[12,7,3],\n",
    "    [4 ,5,6],\n",
    "    [7 ,8,9]]\n",
    "\n",
    "Y = [[5,8,1],\n",
    "    [6,7,3],\n",
    "    [4,5,9]]\n",
    "\n",
    "result = [[0,0,0],\n",
    "         [0,0,0],\n",
    "         [0,0,0]]\n",
    "\n",
    "# iterate through rows\n",
    "for i in range(len(X)):\n",
    "   # iterate through columns\n",
    "   for j in range(len(X[0])):\n",
    "       result[i][j] = X[i][j] + Y[i][j]\n",
    "\n",
    "for r in result:\n",
    "   print(r)\n"
   ]
  },
  {
   "cell_type": "markdown",
   "metadata": {},
   "source": [
    "2) Transpose a Matrix"
   ]
  },
  {
   "cell_type": "code",
   "execution_count": 28,
   "metadata": {},
   "outputs": [
    {
     "name": "stdout",
     "output_type": "stream",
     "text": [
      "[12, 4, 3]\n",
      "[7, 5, 8]\n"
     ]
    }
   ],
   "source": [
    "''' Program to transpose a matrix using list comprehension'''\n",
    "\n",
    "X = [[12,7],\n",
    "    [4 ,5],\n",
    "    [3 ,8]]\n",
    "\n",
    "result = [[X[j][i] for j in range(len(X))] for i in range(len(X[0]))]\n",
    "\n",
    "for r in result:\n",
    "   print(r)"
   ]
  },
  {
   "cell_type": "markdown",
   "metadata": {},
   "source": [
    "3) Multiply Two Matrices"
   ]
  },
  {
   "cell_type": "code",
   "execution_count": 29,
   "metadata": {},
   "outputs": [
    {
     "name": "stdout",
     "output_type": "stream",
     "text": [
      "[114, 160, 60, 27]\n",
      "[74, 97, 73, 14]\n",
      "[119, 157, 112, 23]\n"
     ]
    }
   ],
   "source": [
    "# Program to multiply two matrices using nested loops\n",
    "\n",
    "# 3x3 matrix\n",
    "X = [[12,7,3],\n",
    "    [4 ,5,6],\n",
    "    [7 ,8,9]]\n",
    "# 3x4 matrix\n",
    "Y = [[5,8,1,2],\n",
    "    [6,7,3,0],\n",
    "    [4,5,9,1]]\n",
    "# result is 3x4\n",
    "result = [[0,0,0,0],\n",
    "         [0,0,0,0],\n",
    "         [0,0,0,0]]\n",
    "\n",
    "# iterate through rows of X\n",
    "for i in range(len(X)):\n",
    "   # iterate through columns of Y\n",
    "   for j in range(len(Y[0])):\n",
    "       # iterate through rows of Y\n",
    "       for k in range(len(Y)):\n",
    "           result[i][j] += X[i][k] * Y[k][j]\n",
    "\n",
    "for r in result:\n",
    "   print(r)\n"
   ]
  },
  {
   "cell_type": "markdown",
   "metadata": {},
   "source": [
    "4) Check Whether a String is Palindrome or Not"
   ]
  },
  {
   "cell_type": "code",
   "execution_count": 30,
   "metadata": {},
   "outputs": [
    {
     "name": "stdout",
     "output_type": "stream",
     "text": [
      "The string is a palindrome.\n"
     ]
    }
   ],
   "source": [
    "# A palindrome is a string that is the same read forward or backward.\n",
    "# Program to check if a string is palindrome or not\n",
    "\n",
    "my_str = 'aIbohPhoBiA'\n",
    "\n",
    "# make it suitable for caseless comparison\n",
    "my_str = my_str.casefold()\n",
    "\n",
    "# reverse the string\n",
    "rev_str = reversed(my_str)\n",
    "\n",
    "# check if the string is equal to its reverse\n",
    "if list(my_str) == list(rev_str):\n",
    "   print(\"The string is a palindrome.\")\n",
    "else:\n",
    "   print(\"The string is not a palindrome.\")\n"
   ]
  },
  {
   "cell_type": "markdown",
   "metadata": {},
   "source": [
    "5) Remove Punctuations From a String"
   ]
  },
  {
   "cell_type": "code",
   "execution_count": 31,
   "metadata": {},
   "outputs": [
    {
     "name": "stdout",
     "output_type": "stream",
     "text": [
      "punctuations is  ['!', '\"', '#', '$', '%', '&', \"'\", '(', ')', '*', '+', ',', '-', '.', '/', ':', ';', '<', '=', '>', '?', '@', '[', '\\\\', ']', '^', '_', '`', '{', '|', '}', '~']\n",
      "Hello he said and went\n"
     ]
    }
   ],
   "source": [
    "import string\n",
    "# define punctuation\n",
    "punctuations = list(string.punctuation)\n",
    "print(\"punctuations is \" , punctuations)\n",
    "\n",
    "my_str = \"Hello!!!, he said ---and went.\"\n",
    "\n",
    "\n",
    "# remove punctuation from the string\n",
    "no_punct = \"\"\n",
    "for char in my_str:\n",
    "   if char not in punctuations:\n",
    "       no_punct = no_punct + char\n",
    "\n",
    "# display the unpunctuated string\n",
    "print(no_punct)\n"
   ]
  },
  {
   "cell_type": "markdown",
   "metadata": {},
   "source": [
    "6) Sort Words in Alphabetic Order"
   ]
  },
  {
   "cell_type": "code",
   "execution_count": 32,
   "metadata": {},
   "outputs": [
    {
     "name": "stdout",
     "output_type": "stream",
     "text": [
      "The string you enterd is :  quick brown fox jumps over the lazy DOG\n",
      "The sorted words are:\n",
      "brown\n",
      "dog\n",
      "fox\n",
      "jumps\n",
      "lazy\n",
      "over\n",
      "quick\n",
      "the\n"
     ]
    }
   ],
   "source": [
    "# Program to sort alphabetically the words form a string provided by the user\n",
    "\n",
    "my_str = input(\"Enter a string: \")\n",
    "\n",
    "print(\"The string you enterd is : \" , my_str)\n",
    "\n",
    "# breakdown the string into a list of words\n",
    "words = [word.lower() for word in my_str.split()]\n",
    "\n",
    "# sort the list\n",
    "words.sort()\n",
    "\n",
    "# display the sorted words\n",
    "\n",
    "print(\"The sorted words are:\")\n",
    "for word in words:\n",
    "   print(word)\n"
   ]
  },
  {
   "cell_type": "markdown",
   "metadata": {},
   "source": [
    "7) Illustrate Different Set Operations"
   ]
  },
  {
   "cell_type": "code",
   "execution_count": 33,
   "metadata": {},
   "outputs": [
    {
     "name": "stdout",
     "output_type": "stream",
     "text": [
      "Union of E and N is {0, 1, 2, 3, 4, 5, 6, 8}\n",
      "Intersection of E and N is {2, 4}\n",
      "Difference of E and N is {0, 8, 6}\n",
      "Symmetric difference of E and N is {0, 1, 3, 5, 6, 8}\n"
     ]
    }
   ],
   "source": [
    "# Program to perform different set operations like in mathematics\n",
    "\n",
    "# define three sets\n",
    "E = {0, 2, 4, 6, 8};\n",
    "N = {1, 2, 3, 4, 5};\n",
    "\n",
    "# set union\n",
    "print(\"Union of E and N is\",E | N)\n",
    "\n",
    "# set intersection\n",
    "print(\"Intersection of E and N is\",E & N)\n",
    "\n",
    "# set difference\n",
    "print(\"Difference of E and N is\",E - N)\n",
    "\n",
    "# set symmetric difference\n",
    "print(\"Symmetric difference of E and N is\",E ^ N)\n"
   ]
  },
  {
   "cell_type": "markdown",
   "metadata": {},
   "source": [
    "8) Count the Number of Each Vowel"
   ]
  },
  {
   "cell_type": "code",
   "execution_count": 34,
   "metadata": {},
   "outputs": [
    {
     "name": "stdout",
     "output_type": "stream",
     "text": [
      "{'a': 2, 'e': 5, 'i': 3, 'o': 5, 'u': 3}\n"
     ]
    }
   ],
   "source": [
    "# Program to count the number of each vowels\n",
    "\n",
    "# string of vowels\n",
    "vowels = 'aeiou'\n",
    "\n",
    "ip_str = 'Hello, have you tried our tutorial section yet?'\n",
    "\n",
    "# make it suitable for caseless comparisions\n",
    "ip_str = ip_str.casefold()\n",
    "\n",
    "# make a dictionary with each vowel a key and value 0\n",
    "count = {}.fromkeys(vowels,0)\n",
    "\n",
    "# count the vowels\n",
    "for char in ip_str:\n",
    "   if char in count:\n",
    "       count[char] += 1\n",
    "\n",
    "print(count)\n"
   ]
  },
  {
   "cell_type": "markdown",
   "metadata": {},
   "source": [
    "9) Merge Two Dictionaries"
   ]
  },
  {
   "cell_type": "code",
   "execution_count": 35,
   "metadata": {},
   "outputs": [
    {
     "name": "stdout",
     "output_type": "stream",
     "text": [
      "{2: 'b', 4: 'd', 1: 'a'}\n"
     ]
    }
   ],
   "source": [
    "dict_1 = {1: 'a', 2: 'b'}\n",
    "dict_2 = {2: 'c', 4: 'd'}\n",
    "\n",
    "dict_3 = dict_2.copy()\n",
    "dict_3.update(dict_1)\n",
    "\n",
    "print(dict_3)"
   ]
  },
  {
   "cell_type": "markdown",
   "metadata": {},
   "source": [
    "10) Access Index of a List Using for Loop"
   ]
  },
  {
   "cell_type": "code",
   "execution_count": 36,
   "metadata": {},
   "outputs": [
    {
     "name": "stdout",
     "output_type": "stream",
     "text": [
      "0 21\n",
      "1 44\n",
      "2 35\n",
      "3 11\n"
     ]
    }
   ],
   "source": [
    "my_list = [21, 44, 35, 11]\n",
    "\n",
    "for index, val in enumerate(my_list):\n",
    "    print(index, val)"
   ]
  },
  {
   "cell_type": "markdown",
   "metadata": {},
   "source": [
    "11) Flatten a Nested List"
   ]
  },
  {
   "cell_type": "code",
   "execution_count": 37,
   "metadata": {},
   "outputs": [
    {
     "name": "stdout",
     "output_type": "stream",
     "text": [
      "[1, 2, 3, 4, 5, 6, 7]\n"
     ]
    }
   ],
   "source": [
    "#Using List Comprehension\n",
    "my_list2 = [[1], [2, 3], [4, 5, 6, 7]]\n",
    "\n",
    "flat_list = [num for sublist in my_list2 for num in sublist]\n",
    "print(flat_list)"
   ]
  },
  {
   "cell_type": "markdown",
   "metadata": {},
   "source": [
    "12) Slice Lists"
   ]
  },
  {
   "cell_type": "code",
   "execution_count": 38,
   "metadata": {},
   "outputs": [
    {
     "name": "stdout",
     "output_type": "stream",
     "text": [
      "[3, 4]\n"
     ]
    }
   ],
   "source": [
    "#Get all the Items from One Position to Another Position\n",
    "my_list3 = [1, 2, 3, 4, 5]\n",
    "\n",
    "print(my_list3[2:4])"
   ]
  },
  {
   "cell_type": "markdown",
   "metadata": {},
   "source": [
    "13) Sort a Dictionary by Value"
   ]
  },
  {
   "cell_type": "code",
   "execution_count": 39,
   "metadata": {},
   "outputs": [
    {
     "name": "stdout",
     "output_type": "stream",
     "text": [
      "{6: 3, 5: 4, 1: 6}\n"
     ]
    }
   ],
   "source": [
    "dt = {5:4, 1:6, 6:3}\n",
    "\n",
    "sorted_dt = {key: value for key, value in sorted(dt.items(), key=lambda item: item[1])}\n",
    "\n",
    "print(sorted_dt)"
   ]
  },
  {
   "cell_type": "markdown",
   "metadata": {},
   "source": [
    "14) Check If a List is Empty"
   ]
  },
  {
   "cell_type": "code",
   "execution_count": 40,
   "metadata": {},
   "outputs": [
    {
     "name": "stdout",
     "output_type": "stream",
     "text": [
      "the list is empty\n"
     ]
    }
   ],
   "source": [
    "my_list4 = []\n",
    "if not len(my_list4):\n",
    "    print(\"the list is empty\")"
   ]
  },
  {
   "cell_type": "markdown",
   "metadata": {},
   "source": [
    "15) Concatenate Two Lists"
   ]
  },
  {
   "cell_type": "code",
   "execution_count": 41,
   "metadata": {},
   "outputs": [
    {
     "name": "stdout",
     "output_type": "stream",
     "text": [
      "[1, 'a', 3, 4, 5]\n"
     ]
    }
   ],
   "source": [
    "# using +\n",
    "list_1 = [1, 'a']\n",
    "list_2 = [3, 4, 5]\n",
    "\n",
    "list_joined = list_1 + list_2\n",
    "print(list_joined)"
   ]
  },
  {
   "cell_type": "markdown",
   "metadata": {},
   "source": [
    "16) Check if a Key is Already Present in a Dictionary"
   ]
  },
  {
   "cell_type": "code",
   "execution_count": 42,
   "metadata": {},
   "outputs": [
    {
     "name": "stdout",
     "output_type": "stream",
     "text": [
      "present\n"
     ]
    }
   ],
   "source": [
    "#Using in \n",
    "my_dict = {1: 'a', 2: 'b', 3: 'c'}\n",
    "\n",
    "if 2 in my_dict:\n",
    "    print(\"present\")"
   ]
  },
  {
   "cell_type": "markdown",
   "metadata": {},
   "source": [
    "17) Split a List Into Evenly Sized Chunks"
   ]
  },
  {
   "cell_type": "code",
   "execution_count": 43,
   "metadata": {},
   "outputs": [
    {
     "name": "stdout",
     "output_type": "stream",
     "text": [
      "[array([1, 2]), array([3, 4]), array([5, 6]), array([7, 8]), array([9])]\n"
     ]
    }
   ],
   "source": [
    "import numpy as np\n",
    "\n",
    "my_list12 = [1,2,3,4,5,6,7,8,9]\n",
    "print(np.array_split(my_list12, 5))"
   ]
  },
  {
   "cell_type": "markdown",
   "metadata": {},
   "source": [
    "18) Parse a String to a Float or Int"
   ]
  },
  {
   "cell_type": "code",
   "execution_count": 44,
   "metadata": {},
   "outputs": [
    {
     "name": "stdout",
     "output_type": "stream",
     "text": [
      "<class 'int'> || <class 'float'>\n",
      "1500 || 1500.34\n"
     ]
    }
   ],
   "source": [
    "balance_str = \"1500.34\"\n",
    "balance_flt = float(balance_str)\n",
    "balance_int = int(balance_flt)\n",
    "\n",
    "# print the type\n",
    "print(type(balance_int) , \"||\"  , type(balance_flt))\n",
    "\n",
    "# print the value\n",
    "print(balance_int , \"||\" , balance_flt)"
   ]
  },
  {
   "cell_type": "markdown",
   "metadata": {},
   "source": [
    "19) Print Colored Text to the Terminal"
   ]
  },
  {
   "cell_type": "code",
   "execution_count": 45,
   "metadata": {},
   "outputs": [
    {
     "name": "stdout",
     "output_type": "stream",
     "text": [
      "\u001b[34mProgramiz\u001b[0m\n",
      "\u001b[31mProgramiz\u001b[0m\n",
      "\u001b[97mProgramiz\u001b[0m\n",
      "\u001b[30mProgramiz\u001b[0m\n"
     ]
    }
   ],
   "source": [
    "from termcolor import colored\n",
    "\n",
    "print(colored('Programiz', 'blue'))\n",
    "print(colored('Programiz', 'red'))\n",
    "print(colored('Programiz', 'white'))\n",
    "print(colored('Programiz', 'black'))"
   ]
  },
  {
   "cell_type": "markdown",
   "metadata": {},
   "source": [
    "20) Convert String to Datetime"
   ]
  },
  {
   "cell_type": "code",
   "execution_count": 46,
   "metadata": {},
   "outputs": [
    {
     "name": "stdout",
     "output_type": "stream",
     "text": [
      "<class 'datetime.datetime'>\n",
      "2002-07-14 09:00:00\n"
     ]
    }
   ],
   "source": [
    "from datetime import datetime\n",
    "\n",
    "my_date_string = \"jul 14 2002 09:00AM\"\n",
    "\n",
    "datetime_object = datetime.strptime(my_date_string, '%b %d %Y %I:%M%p')\n",
    "\n",
    "print(type(datetime_object))\n",
    "print(datetime_object)"
   ]
  },
  {
   "cell_type": "markdown",
   "metadata": {},
   "source": [
    "21)  Get the Last Element of the List"
   ]
  },
  {
   "cell_type": "code",
   "execution_count": 47,
   "metadata": {},
   "outputs": [
    {
     "name": "stdout",
     "output_type": "stream",
     "text": [
      "e\n"
     ]
    }
   ],
   "source": [
    "my_list = ['a', 'b', 'c', 'd', 'e']\n",
    "\n",
    "# print the last element\n",
    "print(my_list[-1])"
   ]
  },
  {
   "cell_type": "markdown",
   "metadata": {},
   "source": [
    "22) Get a Substring of a String"
   ]
  },
  {
   "cell_type": "code",
   "execution_count": 48,
   "metadata": {},
   "outputs": [
    {
     "name": "stdout",
     "output_type": "stream",
     "text": [
      "love\n",
      "love python.\n",
      "I love python\n"
     ]
    }
   ],
   "source": [
    "my_string = \"I love python.\"\n",
    "\n",
    "# prints \"love\"\n",
    "print(my_string[2:6])\n",
    "\n",
    "# prints \"love python.\"\n",
    "print(my_string[2:])\n",
    "\n",
    "# prints \"I love python\"\n",
    "print(my_string[:-1])"
   ]
  },
  {
   "cell_type": "markdown",
   "metadata": {},
   "source": [
    "23) Randomly Select an Element From the List"
   ]
  },
  {
   "cell_type": "code",
   "execution_count": 49,
   "metadata": {},
   "outputs": [
    {
     "name": "stdout",
     "output_type": "stream",
     "text": [
      "d\n"
     ]
    }
   ],
   "source": [
    "my_list14 = [1, 'a', 32, 'c', 'd', 31]\n",
    "print(random.choice(my_list14))"
   ]
  },
  {
   "cell_type": "markdown",
   "metadata": {},
   "source": [
    "24) Check If a String Is a Number (Float)"
   ]
  },
  {
   "cell_type": "code",
   "execution_count": 50,
   "metadata": {},
   "outputs": [
    {
     "name": "stdout",
     "output_type": "stream",
     "text": [
      "False\n",
      "True\n"
     ]
    }
   ],
   "source": [
    "def isfloat(num):\n",
    "    try:\n",
    "        float(num)\n",
    "        return True\n",
    "    except ValueError:\n",
    "        return False\n",
    "\n",
    "print(isfloat('s12'))\n",
    "print(isfloat('1.123'))"
   ]
  },
  {
   "cell_type": "markdown",
   "metadata": {},
   "source": [
    "25) Count the Occurrence of an Item in a List"
   ]
  },
  {
   "cell_type": "code",
   "execution_count": 51,
   "metadata": {},
   "outputs": [
    {
     "name": "stdout",
     "output_type": "stream",
     "text": [
      "3\n"
     ]
    }
   ],
   "source": [
    "freq = ['a', 1, 'a', 4, 3, 2, 'a'].count('a')\n",
    "print(freq)"
   ]
  },
  {
   "cell_type": "markdown",
   "metadata": {},
   "source": [
    "26) Delete an Element From a Dictionary"
   ]
  },
  {
   "cell_type": "code",
   "execution_count": 52,
   "metadata": {},
   "outputs": [
    {
     "name": "stdout",
     "output_type": "stream",
     "text": [
      "a\n",
      "{21: 'b', 14: 'c'}\n"
     ]
    }
   ],
   "source": [
    "my_dict = {31: 'a', 21: 'b', 14: 'c'}\n",
    "\n",
    "print(my_dict.pop(31))\n",
    "\n",
    "print(my_dict)"
   ]
  },
  {
   "cell_type": "markdown",
   "metadata": {},
   "source": [
    "27) Create a Long Multiline String"
   ]
  },
  {
   "cell_type": "code",
   "execution_count": 53,
   "metadata": {},
   "outputs": [
    {
     "name": "stdout",
     "output_type": "stream",
     "text": [
      "The only way to \n",
      "learn to program is \n",
      "by writing code.\n"
     ]
    }
   ],
   "source": [
    "my_string = \"The only way to \\n\" \\\n",
    "        \t\"learn to program is \\n\" \\\n",
    "        \t\"by writing code.\"\n",
    "\n",
    "print(my_string)"
   ]
  },
  {
   "cell_type": "markdown",
   "metadata": {},
   "source": [
    "28) Convert Two Lists Into a Dictionary"
   ]
  },
  {
   "cell_type": "code",
   "execution_count": 54,
   "metadata": {},
   "outputs": [
    {
     "name": "stdout",
     "output_type": "stream",
     "text": [
      "{1: 'python', 2: 'c', 3: 'c++'}\n"
     ]
    }
   ],
   "source": [
    "index = [1, 2, 3]\n",
    "languages = ['python', 'c', 'c++']\n",
    "\n",
    "dictionary = dict(zip(index, languages))\n",
    "print(dictionary)"
   ]
  },
  {
   "cell_type": "markdown",
   "metadata": {},
   "source": [
    "29) Trim Whitespace From a String"
   ]
  },
  {
   "cell_type": "code",
   "execution_count": 55,
   "metadata": {},
   "outputs": [
    {
     "name": "stdout",
     "output_type": "stream",
     "text": [
      "Hello Python\n"
     ]
    }
   ],
   "source": [
    "import re\n",
    "\n",
    "my_string  = \" Hello Python \"\n",
    "output = re.sub(r'^\\s+|\\s+$', '', my_string)\n",
    "\n",
    "print(output)"
   ]
  },
  {
   "cell_type": "markdown",
   "metadata": {},
   "source": [
    "30)  Iterate Through Two Lists in Parallel"
   ]
  },
  {
   "cell_type": "code",
   "execution_count": 56,
   "metadata": {},
   "outputs": [
    {
     "name": "stdout",
     "output_type": "stream",
     "text": [
      "1 a\n",
      "2 b\n",
      "3 c\n"
     ]
    }
   ],
   "source": [
    "list_1 = [1, 2, 3, 4]\n",
    "list_2 = ['a', 'b', 'c']\n",
    "\n",
    "for i, j in zip(list_1, list_2):\n",
    "    print(i, j)"
   ]
  },
  {
   "cell_type": "markdown",
   "metadata": {},
   "source": [
    "31) Count the Number of Digits Present In a Number"
   ]
  },
  {
   "cell_type": "code",
   "execution_count": 57,
   "metadata": {},
   "outputs": [
    {
     "name": "stdout",
     "output_type": "stream",
     "text": [
      "6\n"
     ]
    }
   ],
   "source": [
    "num = 123456\n",
    "print(len(str(num)))"
   ]
  },
  {
   "cell_type": "markdown",
   "metadata": {},
   "source": [
    "32) Check If Two Strings are Anagram"
   ]
  },
  {
   "cell_type": "code",
   "execution_count": 58,
   "metadata": {},
   "outputs": [
    {
     "name": "stdout",
     "output_type": "stream",
     "text": [
      "race and care are anagram.\n"
     ]
    }
   ],
   "source": [
    "\"\"\"Two strings are said to be anagram if we can form one string by arranging the characters of another string.\\\n",
    " For example, Race and Care.\n",
    " Here, we can form Race by arranging the characters of Care.\"\"\"\n",
    "\n",
    "str1 = \"Race\"\n",
    "str2 = \"Care\"\n",
    "\n",
    "# convert both the strings into lowercase\n",
    "str1 = str1.lower()\n",
    "str2 = str2.lower()\n",
    "\n",
    "# check if length is same\n",
    "if(len(str1) == len(str2)):\n",
    "\n",
    "    # sort the strings\n",
    "    sorted_str1 = sorted(str1)\n",
    "    sorted_str2 = sorted(str2)\n",
    "\n",
    "    # if sorted char arrays are same\n",
    "    if(sorted_str1 == sorted_str2):\n",
    "        print(str1 + \" and \" + str2 + \" are anagram.\")\n",
    "    else:\n",
    "        print(str1 + \" and \" + str2 + \" are not anagram.\")\n",
    "\n",
    "else:\n",
    "    print(str1 + \" and \" + str2 + \" are not anagram.\")"
   ]
  },
  {
   "cell_type": "markdown",
   "metadata": {},
   "source": [
    "33) Capitalize the First Character of a String"
   ]
  },
  {
   "cell_type": "code",
   "execution_count": 59,
   "metadata": {},
   "outputs": [
    {
     "name": "stdout",
     "output_type": "stream",
     "text": [
      "Programiz is lit\n"
     ]
    }
   ],
   "source": [
    "my_string = \"programiz is Lit\"\n",
    "\n",
    "cap_string = my_string.capitalize()\n",
    "\n",
    "print(cap_string)"
   ]
  },
  {
   "cell_type": "markdown",
   "metadata": {},
   "source": [
    "34) Compute all the Permutation of the String"
   ]
  },
  {
   "cell_type": "code",
   "execution_count": 60,
   "metadata": {},
   "outputs": [
    {
     "name": "stdout",
     "output_type": "stream",
     "text": [
      "MANUTD\n",
      "MANUDT\n",
      "MANTUD\n",
      "MANTDU\n",
      "MANDTU\n",
      "MANDUT\n",
      "MAUNTD\n",
      "MAUNDT\n",
      "MAUTND\n",
      "MAUTDN\n",
      "MAUDTN\n",
      "MAUDNT\n",
      "MATUND\n",
      "MATUDN\n",
      "MATNUD\n",
      "MATNDU\n",
      "MATDNU\n",
      "MATDUN\n",
      "MADUTN\n",
      "MADUNT\n",
      "MADTUN\n",
      "MADTNU\n",
      "MADNTU\n",
      "MADNUT\n",
      "MNAUTD\n",
      "MNAUDT\n",
      "MNATUD\n",
      "MNATDU\n",
      "MNADTU\n",
      "MNADUT\n",
      "MNUATD\n",
      "MNUADT\n",
      "MNUTAD\n",
      "MNUTDA\n",
      "MNUDTA\n",
      "MNUDAT\n",
      "MNTUAD\n",
      "MNTUDA\n",
      "MNTAUD\n",
      "MNTADU\n",
      "MNTDAU\n",
      "MNTDUA\n",
      "MNDUTA\n",
      "MNDUAT\n",
      "MNDTUA\n",
      "MNDTAU\n",
      "MNDATU\n",
      "MNDAUT\n",
      "MUNATD\n",
      "MUNADT\n",
      "MUNTAD\n",
      "MUNTDA\n",
      "MUNDTA\n",
      "MUNDAT\n",
      "MUANTD\n",
      "MUANDT\n",
      "MUATND\n",
      "MUATDN\n",
      "MUADTN\n",
      "MUADNT\n",
      "MUTAND\n",
      "MUTADN\n",
      "MUTNAD\n",
      "MUTNDA\n",
      "MUTDNA\n",
      "MUTDAN\n",
      "MUDATN\n",
      "MUDANT\n",
      "MUDTAN\n",
      "MUDTNA\n",
      "MUDNTA\n",
      "MUDNAT\n",
      "MTNUAD\n",
      "MTNUDA\n",
      "MTNAUD\n",
      "MTNADU\n",
      "MTNDAU\n",
      "MTNDUA\n",
      "MTUNAD\n",
      "MTUNDA\n",
      "MTUAND\n",
      "MTUADN\n",
      "MTUDAN\n",
      "MTUDNA\n",
      "MTAUND\n",
      "MTAUDN\n",
      "MTANUD\n",
      "MTANDU\n",
      "MTADNU\n",
      "MTADUN\n",
      "MTDUAN\n",
      "MTDUNA\n",
      "MTDAUN\n",
      "MTDANU\n",
      "MTDNAU\n",
      "MTDNUA\n",
      "MDNUTA\n",
      "MDNUAT\n",
      "MDNTUA\n",
      "MDNTAU\n",
      "MDNATU\n",
      "MDNAUT\n",
      "MDUNTA\n",
      "MDUNAT\n",
      "MDUTNA\n",
      "MDUTAN\n",
      "MDUATN\n",
      "MDUANT\n",
      "MDTUNA\n",
      "MDTUAN\n",
      "MDTNUA\n",
      "MDTNAU\n",
      "MDTANU\n",
      "MDTAUN\n",
      "MDAUTN\n",
      "MDAUNT\n",
      "MDATUN\n",
      "MDATNU\n",
      "MDANTU\n",
      "MDANUT\n",
      "AMNUTD\n",
      "AMNUDT\n",
      "AMNTUD\n",
      "AMNTDU\n",
      "AMNDTU\n",
      "AMNDUT\n",
      "AMUNTD\n",
      "AMUNDT\n",
      "AMUTND\n",
      "AMUTDN\n",
      "AMUDTN\n",
      "AMUDNT\n",
      "AMTUND\n",
      "AMTUDN\n",
      "AMTNUD\n",
      "AMTNDU\n",
      "AMTDNU\n",
      "AMTDUN\n",
      "AMDUTN\n",
      "AMDUNT\n",
      "AMDTUN\n",
      "AMDTNU\n",
      "AMDNTU\n",
      "AMDNUT\n",
      "ANMUTD\n",
      "ANMUDT\n",
      "ANMTUD\n",
      "ANMTDU\n",
      "ANMDTU\n",
      "ANMDUT\n",
      "ANUMTD\n",
      "ANUMDT\n",
      "ANUTMD\n",
      "ANUTDM\n",
      "ANUDTM\n",
      "ANUDMT\n",
      "ANTUMD\n",
      "ANTUDM\n",
      "ANTMUD\n",
      "ANTMDU\n",
      "ANTDMU\n",
      "ANTDUM\n",
      "ANDUTM\n",
      "ANDUMT\n",
      "ANDTUM\n",
      "ANDTMU\n",
      "ANDMTU\n",
      "ANDMUT\n",
      "AUNMTD\n",
      "AUNMDT\n",
      "AUNTMD\n",
      "AUNTDM\n",
      "AUNDTM\n",
      "AUNDMT\n",
      "AUMNTD\n",
      "AUMNDT\n",
      "AUMTND\n",
      "AUMTDN\n",
      "AUMDTN\n",
      "AUMDNT\n",
      "AUTMND\n",
      "AUTMDN\n",
      "AUTNMD\n",
      "AUTNDM\n",
      "AUTDNM\n",
      "AUTDMN\n",
      "AUDMTN\n",
      "AUDMNT\n",
      "AUDTMN\n",
      "AUDTNM\n",
      "AUDNTM\n",
      "AUDNMT\n",
      "ATNUMD\n",
      "ATNUDM\n",
      "ATNMUD\n",
      "ATNMDU\n",
      "ATNDMU\n",
      "ATNDUM\n",
      "ATUNMD\n",
      "ATUNDM\n",
      "ATUMND\n",
      "ATUMDN\n",
      "ATUDMN\n",
      "ATUDNM\n",
      "ATMUND\n",
      "ATMUDN\n",
      "ATMNUD\n",
      "ATMNDU\n",
      "ATMDNU\n",
      "ATMDUN\n",
      "ATDUMN\n",
      "ATDUNM\n",
      "ATDMUN\n",
      "ATDMNU\n",
      "ATDNMU\n",
      "ATDNUM\n",
      "ADNUTM\n",
      "ADNUMT\n",
      "ADNTUM\n",
      "ADNTMU\n",
      "ADNMTU\n",
      "ADNMUT\n",
      "ADUNTM\n",
      "ADUNMT\n",
      "ADUTNM\n",
      "ADUTMN\n",
      "ADUMTN\n",
      "ADUMNT\n",
      "ADTUNM\n",
      "ADTUMN\n",
      "ADTNUM\n",
      "ADTNMU\n",
      "ADTMNU\n",
      "ADTMUN\n",
      "ADMUTN\n",
      "ADMUNT\n",
      "ADMTUN\n",
      "ADMTNU\n",
      "ADMNTU\n",
      "ADMNUT\n",
      "NAMUTD\n",
      "NAMUDT\n",
      "NAMTUD\n",
      "NAMTDU\n",
      "NAMDTU\n",
      "NAMDUT\n",
      "NAUMTD\n",
      "NAUMDT\n",
      "NAUTMD\n",
      "NAUTDM\n",
      "NAUDTM\n",
      "NAUDMT\n",
      "NATUMD\n",
      "NATUDM\n",
      "NATMUD\n",
      "NATMDU\n",
      "NATDMU\n",
      "NATDUM\n",
      "NADUTM\n",
      "NADUMT\n",
      "NADTUM\n",
      "NADTMU\n",
      "NADMTU\n",
      "NADMUT\n",
      "NMAUTD\n",
      "NMAUDT\n",
      "NMATUD\n",
      "NMATDU\n",
      "NMADTU\n",
      "NMADUT\n",
      "NMUATD\n",
      "NMUADT\n",
      "NMUTAD\n",
      "NMUTDA\n",
      "NMUDTA\n",
      "NMUDAT\n",
      "NMTUAD\n",
      "NMTUDA\n",
      "NMTAUD\n",
      "NMTADU\n",
      "NMTDAU\n",
      "NMTDUA\n",
      "NMDUTA\n",
      "NMDUAT\n",
      "NMDTUA\n",
      "NMDTAU\n",
      "NMDATU\n",
      "NMDAUT\n",
      "NUMATD\n",
      "NUMADT\n",
      "NUMTAD\n",
      "NUMTDA\n",
      "NUMDTA\n",
      "NUMDAT\n",
      "NUAMTD\n",
      "NUAMDT\n",
      "NUATMD\n",
      "NUATDM\n",
      "NUADTM\n",
      "NUADMT\n",
      "NUTAMD\n",
      "NUTADM\n",
      "NUTMAD\n",
      "NUTMDA\n",
      "NUTDMA\n",
      "NUTDAM\n",
      "NUDATM\n",
      "NUDAMT\n",
      "NUDTAM\n",
      "NUDTMA\n",
      "NUDMTA\n",
      "NUDMAT\n",
      "NTMUAD\n",
      "NTMUDA\n",
      "NTMAUD\n",
      "NTMADU\n",
      "NTMDAU\n",
      "NTMDUA\n",
      "NTUMAD\n",
      "NTUMDA\n",
      "NTUAMD\n",
      "NTUADM\n",
      "NTUDAM\n",
      "NTUDMA\n",
      "NTAUMD\n",
      "NTAUDM\n",
      "NTAMUD\n",
      "NTAMDU\n",
      "NTADMU\n",
      "NTADUM\n",
      "NTDUAM\n",
      "NTDUMA\n",
      "NTDAUM\n",
      "NTDAMU\n",
      "NTDMAU\n",
      "NTDMUA\n",
      "NDMUTA\n",
      "NDMUAT\n",
      "NDMTUA\n",
      "NDMTAU\n",
      "NDMATU\n",
      "NDMAUT\n",
      "NDUMTA\n",
      "NDUMAT\n",
      "NDUTMA\n",
      "NDUTAM\n",
      "NDUATM\n",
      "NDUAMT\n",
      "NDTUMA\n",
      "NDTUAM\n",
      "NDTMUA\n",
      "NDTMAU\n",
      "NDTAMU\n",
      "NDTAUM\n",
      "NDAUTM\n",
      "NDAUMT\n",
      "NDATUM\n",
      "NDATMU\n",
      "NDAMTU\n",
      "NDAMUT\n",
      "UANMTD\n",
      "UANMDT\n",
      "UANTMD\n",
      "UANTDM\n",
      "UANDTM\n",
      "UANDMT\n",
      "UAMNTD\n",
      "UAMNDT\n",
      "UAMTND\n",
      "UAMTDN\n",
      "UAMDTN\n",
      "UAMDNT\n",
      "UATMND\n",
      "UATMDN\n",
      "UATNMD\n",
      "UATNDM\n",
      "UATDNM\n",
      "UATDMN\n",
      "UADMTN\n",
      "UADMNT\n",
      "UADTMN\n",
      "UADTNM\n",
      "UADNTM\n",
      "UADNMT\n",
      "UNAMTD\n",
      "UNAMDT\n",
      "UNATMD\n",
      "UNATDM\n",
      "UNADTM\n",
      "UNADMT\n",
      "UNMATD\n",
      "UNMADT\n",
      "UNMTAD\n",
      "UNMTDA\n",
      "UNMDTA\n",
      "UNMDAT\n",
      "UNTMAD\n",
      "UNTMDA\n",
      "UNTAMD\n",
      "UNTADM\n",
      "UNTDAM\n",
      "UNTDMA\n",
      "UNDMTA\n",
      "UNDMAT\n",
      "UNDTMA\n",
      "UNDTAM\n",
      "UNDATM\n",
      "UNDAMT\n",
      "UMNATD\n",
      "UMNADT\n",
      "UMNTAD\n",
      "UMNTDA\n",
      "UMNDTA\n",
      "UMNDAT\n",
      "UMANTD\n",
      "UMANDT\n",
      "UMATND\n",
      "UMATDN\n",
      "UMADTN\n",
      "UMADNT\n",
      "UMTAND\n",
      "UMTADN\n",
      "UMTNAD\n",
      "UMTNDA\n",
      "UMTDNA\n",
      "UMTDAN\n",
      "UMDATN\n",
      "UMDANT\n",
      "UMDTAN\n",
      "UMDTNA\n",
      "UMDNTA\n",
      "UMDNAT\n",
      "UTNMAD\n",
      "UTNMDA\n",
      "UTNAMD\n",
      "UTNADM\n",
      "UTNDAM\n",
      "UTNDMA\n",
      "UTMNAD\n",
      "UTMNDA\n",
      "UTMAND\n",
      "UTMADN\n",
      "UTMDAN\n",
      "UTMDNA\n",
      "UTAMND\n",
      "UTAMDN\n",
      "UTANMD\n",
      "UTANDM\n",
      "UTADNM\n",
      "UTADMN\n",
      "UTDMAN\n",
      "UTDMNA\n",
      "UTDAMN\n",
      "UTDANM\n",
      "UTDNAM\n",
      "UTDNMA\n",
      "UDNMTA\n",
      "UDNMAT\n",
      "UDNTMA\n",
      "UDNTAM\n",
      "UDNATM\n",
      "UDNAMT\n",
      "UDMNTA\n",
      "UDMNAT\n",
      "UDMTNA\n",
      "UDMTAN\n",
      "UDMATN\n",
      "UDMANT\n",
      "UDTMNA\n",
      "UDTMAN\n",
      "UDTNMA\n",
      "UDTNAM\n",
      "UDTANM\n",
      "UDTAMN\n",
      "UDAMTN\n",
      "UDAMNT\n",
      "UDATMN\n",
      "UDATNM\n",
      "UDANTM\n",
      "UDANMT\n",
      "TANUMD\n",
      "TANUDM\n",
      "TANMUD\n",
      "TANMDU\n",
      "TANDMU\n",
      "TANDUM\n",
      "TAUNMD\n",
      "TAUNDM\n",
      "TAUMND\n",
      "TAUMDN\n",
      "TAUDMN\n",
      "TAUDNM\n",
      "TAMUND\n",
      "TAMUDN\n",
      "TAMNUD\n",
      "TAMNDU\n",
      "TAMDNU\n",
      "TAMDUN\n",
      "TADUMN\n",
      "TADUNM\n",
      "TADMUN\n",
      "TADMNU\n",
      "TADNMU\n",
      "TADNUM\n",
      "TNAUMD\n",
      "TNAUDM\n",
      "TNAMUD\n",
      "TNAMDU\n",
      "TNADMU\n",
      "TNADUM\n",
      "TNUAMD\n",
      "TNUADM\n",
      "TNUMAD\n",
      "TNUMDA\n",
      "TNUDMA\n",
      "TNUDAM\n",
      "TNMUAD\n",
      "TNMUDA\n",
      "TNMAUD\n",
      "TNMADU\n",
      "TNMDAU\n",
      "TNMDUA\n",
      "TNDUMA\n",
      "TNDUAM\n",
      "TNDMUA\n",
      "TNDMAU\n",
      "TNDAMU\n",
      "TNDAUM\n",
      "TUNAMD\n",
      "TUNADM\n",
      "TUNMAD\n",
      "TUNMDA\n",
      "TUNDMA\n",
      "TUNDAM\n",
      "TUANMD\n",
      "TUANDM\n",
      "TUAMND\n",
      "TUAMDN\n",
      "TUADMN\n",
      "TUADNM\n",
      "TUMAND\n",
      "TUMADN\n",
      "TUMNAD\n",
      "TUMNDA\n",
      "TUMDNA\n",
      "TUMDAN\n",
      "TUDAMN\n",
      "TUDANM\n",
      "TUDMAN\n",
      "TUDMNA\n",
      "TUDNMA\n",
      "TUDNAM\n",
      "TMNUAD\n",
      "TMNUDA\n",
      "TMNAUD\n",
      "TMNADU\n",
      "TMNDAU\n",
      "TMNDUA\n",
      "TMUNAD\n",
      "TMUNDA\n",
      "TMUAND\n",
      "TMUADN\n",
      "TMUDAN\n",
      "TMUDNA\n",
      "TMAUND\n",
      "TMAUDN\n",
      "TMANUD\n",
      "TMANDU\n",
      "TMADNU\n",
      "TMADUN\n",
      "TMDUAN\n",
      "TMDUNA\n",
      "TMDAUN\n",
      "TMDANU\n",
      "TMDNAU\n",
      "TMDNUA\n",
      "TDNUMA\n",
      "TDNUAM\n",
      "TDNMUA\n",
      "TDNMAU\n",
      "TDNAMU\n",
      "TDNAUM\n",
      "TDUNMA\n",
      "TDUNAM\n",
      "TDUMNA\n",
      "TDUMAN\n",
      "TDUAMN\n",
      "TDUANM\n",
      "TDMUNA\n",
      "TDMUAN\n",
      "TDMNUA\n",
      "TDMNAU\n",
      "TDMANU\n",
      "TDMAUN\n",
      "TDAUMN\n",
      "TDAUNM\n",
      "TDAMUN\n",
      "TDAMNU\n",
      "TDANMU\n",
      "TDANUM\n",
      "DANUTM\n",
      "DANUMT\n",
      "DANTUM\n",
      "DANTMU\n",
      "DANMTU\n",
      "DANMUT\n",
      "DAUNTM\n",
      "DAUNMT\n",
      "DAUTNM\n",
      "DAUTMN\n",
      "DAUMTN\n",
      "DAUMNT\n",
      "DATUNM\n",
      "DATUMN\n",
      "DATNUM\n",
      "DATNMU\n",
      "DATMNU\n",
      "DATMUN\n",
      "DAMUTN\n",
      "DAMUNT\n",
      "DAMTUN\n",
      "DAMTNU\n",
      "DAMNTU\n",
      "DAMNUT\n",
      "DNAUTM\n",
      "DNAUMT\n",
      "DNATUM\n",
      "DNATMU\n",
      "DNAMTU\n",
      "DNAMUT\n",
      "DNUATM\n",
      "DNUAMT\n",
      "DNUTAM\n",
      "DNUTMA\n",
      "DNUMTA\n",
      "DNUMAT\n",
      "DNTUAM\n",
      "DNTUMA\n",
      "DNTAUM\n",
      "DNTAMU\n",
      "DNTMAU\n",
      "DNTMUA\n",
      "DNMUTA\n",
      "DNMUAT\n",
      "DNMTUA\n",
      "DNMTAU\n",
      "DNMATU\n",
      "DNMAUT\n",
      "DUNATM\n",
      "DUNAMT\n",
      "DUNTAM\n",
      "DUNTMA\n",
      "DUNMTA\n",
      "DUNMAT\n",
      "DUANTM\n",
      "DUANMT\n",
      "DUATNM\n",
      "DUATMN\n",
      "DUAMTN\n",
      "DUAMNT\n",
      "DUTANM\n",
      "DUTAMN\n",
      "DUTNAM\n",
      "DUTNMA\n",
      "DUTMNA\n",
      "DUTMAN\n",
      "DUMATN\n",
      "DUMANT\n",
      "DUMTAN\n",
      "DUMTNA\n",
      "DUMNTA\n",
      "DUMNAT\n",
      "DTNUAM\n",
      "DTNUMA\n",
      "DTNAUM\n",
      "DTNAMU\n",
      "DTNMAU\n",
      "DTNMUA\n",
      "DTUNAM\n",
      "DTUNMA\n",
      "DTUANM\n",
      "DTUAMN\n",
      "DTUMAN\n",
      "DTUMNA\n",
      "DTAUNM\n",
      "DTAUMN\n",
      "DTANUM\n",
      "DTANMU\n",
      "DTAMNU\n",
      "DTAMUN\n",
      "DTMUAN\n",
      "DTMUNA\n",
      "DTMAUN\n",
      "DTMANU\n",
      "DTMNAU\n",
      "DTMNUA\n",
      "DMNUTA\n",
      "DMNUAT\n",
      "DMNTUA\n",
      "DMNTAU\n",
      "DMNATU\n",
      "DMNAUT\n",
      "DMUNTA\n",
      "DMUNAT\n",
      "DMUTNA\n",
      "DMUTAN\n",
      "DMUATN\n",
      "DMUANT\n",
      "DMTUNA\n",
      "DMTUAN\n",
      "DMTNUA\n",
      "DMTNAU\n",
      "DMTANU\n",
      "DMTAUN\n",
      "DMAUTN\n",
      "DMAUNT\n",
      "DMATUN\n",
      "DMATNU\n",
      "DMANTU\n",
      "DMANUT\n",
      "None\n"
     ]
    }
   ],
   "source": [
    "def get_permutation(string, i=0):\n",
    "\n",
    "    if i == len(string):   \t \n",
    "        print(\"\".join(string))\n",
    "\n",
    "    for j in range(i, len(string)):\n",
    "\n",
    "        words = [c for c in string]\n",
    "   \n",
    "        # swap\n",
    "        words[i], words[j] = words[j], words[i]\n",
    "   \t \n",
    "        get_permutation(words, i + 1)\n",
    "\n",
    "print(get_permutation('MANUTD'))"
   ]
  },
  {
   "cell_type": "markdown",
   "metadata": {},
   "source": [
    "35) Count the Number of Occurrence of a Character in String"
   ]
  },
  {
   "cell_type": "code",
   "execution_count": 61,
   "metadata": {},
   "outputs": [
    {
     "name": "stdout",
     "output_type": "stream",
     "text": [
      "2\n"
     ]
    }
   ],
   "source": [
    "my_string = \"Programiz\"\n",
    "my_char = \"r\"\n",
    "\n",
    "print(my_string.count(my_char))"
   ]
  },
  {
   "cell_type": "markdown",
   "metadata": {},
   "source": [
    "36) Remove Duplicate Element From a List"
   ]
  },
  {
   "cell_type": "code",
   "execution_count": 62,
   "metadata": {},
   "outputs": [
    {
     "name": "stdout",
     "output_type": "stream",
     "text": [
      "[1, 2, 4, 6]\n"
     ]
    }
   ],
   "source": [
    "list_1 = [1, 2, 1, 4, 6]\n",
    "\n",
    "print(list(set(list_1)))"
   ]
  },
  {
   "cell_type": "code",
   "execution_count": 63,
   "metadata": {},
   "outputs": [
    {
     "name": "stdout",
     "output_type": "stream",
     "text": [
      "[4, 6, 7, 8]\n"
     ]
    }
   ],
   "source": [
    "#Remove the items that are duplicated in two lists\n",
    "\n",
    "list__1 = [1, 2, 1, 4, 6]\n",
    "list__2 = [7, 8, 2, 1]\n",
    "\n",
    "print(list(set(list__1) ^ set(list__2)))"
   ]
  }
 ],
 "metadata": {
  "kernelspec": {
   "display_name": "Python 3",
   "language": "python",
   "name": "python3"
  },
  "language_info": {
   "codemirror_mode": {
    "name": "ipython",
    "version": 3
   },
   "file_extension": ".py",
   "mimetype": "text/x-python",
   "name": "python",
   "nbconvert_exporter": "python",
   "pygments_lexer": "ipython3",
   "version": "3.12.4"
  }
 },
 "nbformat": 4,
 "nbformat_minor": 2
}
